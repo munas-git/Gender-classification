{
 "cells": [
  {
   "cell_type": "markdown",
   "metadata": {},
   "source": [
    "## Task/end-Goal\n",
    "* Be able to predict an indivuduals gender (Binary; Male or Female) correctly based on certain characteristics"
   ]
  },
  {
   "cell_type": "code",
   "execution_count": 74,
   "metadata": {},
   "outputs": [],
   "source": [
    "# Importing important Libraries\n",
    "\n",
    "import pandas as pd\n",
    "import matplotlib.pyplot as plt\n",
    "from sklearn.model_selection import train_test_split\n",
    "from sklearn.naive_bayes import GaussianNB\n",
    "from sklearn.neighbors import KNeighborsClassifier as knn\n",
    "from xgboost import XGBClassifier\n",
    "from sklearn import svm\n",
    "from sklearn.metrics import confusion_matrix\n",
    "import seaborn as sns\n",
    "from sklearn.metrics import r2_score\n",
    "from sklearn.model_selection import RandomizedSearchCV\n",
    "from sklearn.model_selection import GridSearchCV\n",
    "\n",
    "import warnings\n",
    "warnings.filterwarnings('ignore')"
   ]
  },
  {
   "cell_type": "code",
   "execution_count": 2,
   "metadata": {},
   "outputs": [],
   "source": [
    "data = pd.read_csv('gender_classification_v7.csv')"
   ]
  },
  {
   "cell_type": "code",
   "execution_count": 3,
   "metadata": {},
   "outputs": [
    {
     "data": {
      "text/html": [
       "<div>\n",
       "<style scoped>\n",
       "    .dataframe tbody tr th:only-of-type {\n",
       "        vertical-align: middle;\n",
       "    }\n",
       "\n",
       "    .dataframe tbody tr th {\n",
       "        vertical-align: top;\n",
       "    }\n",
       "\n",
       "    .dataframe thead th {\n",
       "        text-align: right;\n",
       "    }\n",
       "</style>\n",
       "<table border=\"1\" class=\"dataframe\">\n",
       "  <thead>\n",
       "    <tr style=\"text-align: right;\">\n",
       "      <th></th>\n",
       "      <th>long_hair</th>\n",
       "      <th>forehead_width_cm</th>\n",
       "      <th>forehead_height_cm</th>\n",
       "      <th>nose_wide</th>\n",
       "      <th>nose_long</th>\n",
       "      <th>lips_thin</th>\n",
       "      <th>distance_nose_to_lip_long</th>\n",
       "      <th>gender</th>\n",
       "    </tr>\n",
       "  </thead>\n",
       "  <tbody>\n",
       "    <tr>\n",
       "      <th>0</th>\n",
       "      <td>1</td>\n",
       "      <td>11.8</td>\n",
       "      <td>6.1</td>\n",
       "      <td>1</td>\n",
       "      <td>0</td>\n",
       "      <td>1</td>\n",
       "      <td>1</td>\n",
       "      <td>Male</td>\n",
       "    </tr>\n",
       "    <tr>\n",
       "      <th>1</th>\n",
       "      <td>0</td>\n",
       "      <td>14.0</td>\n",
       "      <td>5.4</td>\n",
       "      <td>0</td>\n",
       "      <td>0</td>\n",
       "      <td>1</td>\n",
       "      <td>0</td>\n",
       "      <td>Female</td>\n",
       "    </tr>\n",
       "    <tr>\n",
       "      <th>2</th>\n",
       "      <td>0</td>\n",
       "      <td>11.8</td>\n",
       "      <td>6.3</td>\n",
       "      <td>1</td>\n",
       "      <td>1</td>\n",
       "      <td>1</td>\n",
       "      <td>1</td>\n",
       "      <td>Male</td>\n",
       "    </tr>\n",
       "    <tr>\n",
       "      <th>3</th>\n",
       "      <td>0</td>\n",
       "      <td>14.4</td>\n",
       "      <td>6.1</td>\n",
       "      <td>0</td>\n",
       "      <td>1</td>\n",
       "      <td>1</td>\n",
       "      <td>1</td>\n",
       "      <td>Male</td>\n",
       "    </tr>\n",
       "    <tr>\n",
       "      <th>4</th>\n",
       "      <td>1</td>\n",
       "      <td>13.5</td>\n",
       "      <td>5.9</td>\n",
       "      <td>0</td>\n",
       "      <td>0</td>\n",
       "      <td>0</td>\n",
       "      <td>0</td>\n",
       "      <td>Female</td>\n",
       "    </tr>\n",
       "  </tbody>\n",
       "</table>\n",
       "</div>"
      ],
      "text/plain": [
       "   long_hair  forehead_width_cm  forehead_height_cm  nose_wide  nose_long  \\\n",
       "0          1               11.8                 6.1          1          0   \n",
       "1          0               14.0                 5.4          0          0   \n",
       "2          0               11.8                 6.3          1          1   \n",
       "3          0               14.4                 6.1          0          1   \n",
       "4          1               13.5                 5.9          0          0   \n",
       "\n",
       "   lips_thin  distance_nose_to_lip_long  gender  \n",
       "0          1                          1    Male  \n",
       "1          1                          0  Female  \n",
       "2          1                          1    Male  \n",
       "3          1                          1    Male  \n",
       "4          0                          0  Female  "
      ]
     },
     "execution_count": 3,
     "metadata": {},
     "output_type": "execute_result"
    }
   ],
   "source": [
    "data.head()"
   ]
  },
  {
   "cell_type": "markdown",
   "metadata": {},
   "source": [
    "## EDA - Exploratory Data Analysis"
   ]
  },
  {
   "cell_type": "code",
   "execution_count": 4,
   "metadata": {},
   "outputs": [
    {
     "name": "stdout",
     "output_type": "stream",
     "text": [
      "<class 'pandas.core.frame.DataFrame'>\n",
      "RangeIndex: 5001 entries, 0 to 5000\n",
      "Data columns (total 8 columns):\n",
      " #   Column                     Non-Null Count  Dtype  \n",
      "---  ------                     --------------  -----  \n",
      " 0   long_hair                  5001 non-null   int64  \n",
      " 1   forehead_width_cm          5001 non-null   float64\n",
      " 2   forehead_height_cm         5001 non-null   float64\n",
      " 3   nose_wide                  5001 non-null   int64  \n",
      " 4   nose_long                  5001 non-null   int64  \n",
      " 5   lips_thin                  5001 non-null   int64  \n",
      " 6   distance_nose_to_lip_long  5001 non-null   int64  \n",
      " 7   gender                     5001 non-null   object \n",
      "dtypes: float64(2), int64(5), object(1)\n",
      "memory usage: 312.7+ KB\n"
     ]
    }
   ],
   "source": [
    "data.info()"
   ]
  },
  {
   "cell_type": "code",
   "execution_count": 5,
   "metadata": {},
   "outputs": [
    {
     "data": {
      "text/plain": [
       "long_hair                    0\n",
       "forehead_width_cm            0\n",
       "forehead_height_cm           0\n",
       "nose_wide                    0\n",
       "nose_long                    0\n",
       "lips_thin                    0\n",
       "distance_nose_to_lip_long    0\n",
       "gender                       0\n",
       "dtype: int64"
      ]
     },
     "execution_count": 5,
     "metadata": {},
     "output_type": "execute_result"
    }
   ],
   "source": [
    "data.isnull().sum()"
   ]
  },
  {
   "cell_type": "code",
   "execution_count": 6,
   "metadata": {},
   "outputs": [
    {
     "data": {
      "text/html": [
       "<div>\n",
       "<style scoped>\n",
       "    .dataframe tbody tr th:only-of-type {\n",
       "        vertical-align: middle;\n",
       "    }\n",
       "\n",
       "    .dataframe tbody tr th {\n",
       "        vertical-align: top;\n",
       "    }\n",
       "\n",
       "    .dataframe thead th {\n",
       "        text-align: right;\n",
       "    }\n",
       "</style>\n",
       "<table border=\"1\" class=\"dataframe\">\n",
       "  <thead>\n",
       "    <tr style=\"text-align: right;\">\n",
       "      <th></th>\n",
       "      <th>long_hair</th>\n",
       "      <th>forehead_width_cm</th>\n",
       "      <th>forehead_height_cm</th>\n",
       "      <th>nose_wide</th>\n",
       "      <th>nose_long</th>\n",
       "      <th>lips_thin</th>\n",
       "      <th>distance_nose_to_lip_long</th>\n",
       "    </tr>\n",
       "  </thead>\n",
       "  <tbody>\n",
       "    <tr>\n",
       "      <th>count</th>\n",
       "      <td>5001.000000</td>\n",
       "      <td>5001.000000</td>\n",
       "      <td>5001.000000</td>\n",
       "      <td>5001.000000</td>\n",
       "      <td>5001.000000</td>\n",
       "      <td>5001.000000</td>\n",
       "      <td>5001.000000</td>\n",
       "    </tr>\n",
       "    <tr>\n",
       "      <th>mean</th>\n",
       "      <td>0.869626</td>\n",
       "      <td>13.181484</td>\n",
       "      <td>5.946311</td>\n",
       "      <td>0.493901</td>\n",
       "      <td>0.507898</td>\n",
       "      <td>0.493101</td>\n",
       "      <td>0.498900</td>\n",
       "    </tr>\n",
       "    <tr>\n",
       "      <th>std</th>\n",
       "      <td>0.336748</td>\n",
       "      <td>1.107128</td>\n",
       "      <td>0.541268</td>\n",
       "      <td>0.500013</td>\n",
       "      <td>0.499988</td>\n",
       "      <td>0.500002</td>\n",
       "      <td>0.500049</td>\n",
       "    </tr>\n",
       "    <tr>\n",
       "      <th>min</th>\n",
       "      <td>0.000000</td>\n",
       "      <td>11.400000</td>\n",
       "      <td>5.100000</td>\n",
       "      <td>0.000000</td>\n",
       "      <td>0.000000</td>\n",
       "      <td>0.000000</td>\n",
       "      <td>0.000000</td>\n",
       "    </tr>\n",
       "    <tr>\n",
       "      <th>25%</th>\n",
       "      <td>1.000000</td>\n",
       "      <td>12.200000</td>\n",
       "      <td>5.500000</td>\n",
       "      <td>0.000000</td>\n",
       "      <td>0.000000</td>\n",
       "      <td>0.000000</td>\n",
       "      <td>0.000000</td>\n",
       "    </tr>\n",
       "    <tr>\n",
       "      <th>50%</th>\n",
       "      <td>1.000000</td>\n",
       "      <td>13.100000</td>\n",
       "      <td>5.900000</td>\n",
       "      <td>0.000000</td>\n",
       "      <td>1.000000</td>\n",
       "      <td>0.000000</td>\n",
       "      <td>0.000000</td>\n",
       "    </tr>\n",
       "    <tr>\n",
       "      <th>75%</th>\n",
       "      <td>1.000000</td>\n",
       "      <td>14.000000</td>\n",
       "      <td>6.400000</td>\n",
       "      <td>1.000000</td>\n",
       "      <td>1.000000</td>\n",
       "      <td>1.000000</td>\n",
       "      <td>1.000000</td>\n",
       "    </tr>\n",
       "    <tr>\n",
       "      <th>max</th>\n",
       "      <td>1.000000</td>\n",
       "      <td>15.500000</td>\n",
       "      <td>7.100000</td>\n",
       "      <td>1.000000</td>\n",
       "      <td>1.000000</td>\n",
       "      <td>1.000000</td>\n",
       "      <td>1.000000</td>\n",
       "    </tr>\n",
       "  </tbody>\n",
       "</table>\n",
       "</div>"
      ],
      "text/plain": [
       "         long_hair  forehead_width_cm  forehead_height_cm    nose_wide  \\\n",
       "count  5001.000000        5001.000000         5001.000000  5001.000000   \n",
       "mean      0.869626          13.181484            5.946311     0.493901   \n",
       "std       0.336748           1.107128            0.541268     0.500013   \n",
       "min       0.000000          11.400000            5.100000     0.000000   \n",
       "25%       1.000000          12.200000            5.500000     0.000000   \n",
       "50%       1.000000          13.100000            5.900000     0.000000   \n",
       "75%       1.000000          14.000000            6.400000     1.000000   \n",
       "max       1.000000          15.500000            7.100000     1.000000   \n",
       "\n",
       "         nose_long    lips_thin  distance_nose_to_lip_long  \n",
       "count  5001.000000  5001.000000                5001.000000  \n",
       "mean      0.507898     0.493101                   0.498900  \n",
       "std       0.499988     0.500002                   0.500049  \n",
       "min       0.000000     0.000000                   0.000000  \n",
       "25%       0.000000     0.000000                   0.000000  \n",
       "50%       1.000000     0.000000                   0.000000  \n",
       "75%       1.000000     1.000000                   1.000000  \n",
       "max       1.000000     1.000000                   1.000000  "
      ]
     },
     "execution_count": 6,
     "metadata": {},
     "output_type": "execute_result"
    }
   ],
   "source": [
    "data.describe()"
   ]
  },
  {
   "cell_type": "code",
   "execution_count": 7,
   "metadata": {},
   "outputs": [],
   "source": [
    "# Grouping the data frame into male and female for comparison of attributes\n",
    "genders = data.groupby('gender')"
   ]
  },
  {
   "cell_type": "code",
   "execution_count": 8,
   "metadata": {},
   "outputs": [
    {
     "data": {
      "image/png": "[encoded data removed]",
      "text/plain": [
       "<Figure size 432x288 with 1 Axes>"
      ]
     },
     "metadata": {
      "needs_background": "light"
     },
     "output_type": "display_data"
    }
   ],
   "source": [
    "# Breaking data into male and female\n",
    "male = genders.get_group('Male')\n",
    "female = genders.get_group('Female')\n",
    "\n",
    "plt.scatter(male.forehead_width_cm, male.forehead_height_cm, c='blue', label='male')\n",
    "plt.scatter(female.forehead_width_cm, female.forehead_height_cm, c='orange', label='female')\n",
    "plt.legend(['male', 'female'], loc = 'lower left')\n",
    "plt.title('Male & Female Forehead width/height plot')\n",
    "plt.show()"
   ]
  },
  {
   "cell_type": "markdown",
   "metadata": {},
   "source": [
    "Forehead width and height are important factors to consider as the plot above suggests; Females tend to have smaller foreheads than male."
   ]
  },
  {
   "cell_type": "code",
   "execution_count": 9,
   "metadata": {},
   "outputs": [
    {
     "name": "stdout",
     "output_type": "stream",
     "text": [
      "number of males  2500\n",
      "number of females  2501\n"
     ]
    }
   ],
   "source": [
    "print('number of males ',male.__len__())\n",
    "print('number of females ',female.__len__())"
   ]
  },
  {
   "cell_type": "code",
   "execution_count": 10,
   "metadata": {},
   "outputs": [
    {
     "data": {
      "text/plain": [
       "gender  nose_wide\n",
       "Female  0            2214\n",
       "        1             287\n",
       "Male    1            2183\n",
       "        0             317\n",
       "Name: nose_wide, dtype: int64"
      ]
     },
     "execution_count": 10,
     "metadata": {},
     "output_type": "execute_result"
    }
   ],
   "source": [
    "# Counting number of males and females with wide and narrow nose.\n",
    "# 0 stands for no/false, 1 stands for true/yes.\n",
    "nose_wide_count = genders['nose_wide'].value_counts()\n",
    "nose_wide_count"
   ]
  },
  {
   "cell_type": "code",
   "execution_count": 11,
   "metadata": {},
   "outputs": [
    {
     "data": {
      "text/html": [
       "<div>\n",
       "<style scoped>\n",
       "    .dataframe tbody tr th:only-of-type {\n",
       "        vertical-align: middle;\n",
       "    }\n",
       "\n",
       "    .dataframe tbody tr th {\n",
       "        vertical-align: top;\n",
       "    }\n",
       "\n",
       "    .dataframe thead th {\n",
       "        text-align: right;\n",
       "    }\n",
       "</style>\n",
       "<table border=\"1\" class=\"dataframe\">\n",
       "  <thead>\n",
       "    <tr style=\"text-align: right;\">\n",
       "      <th>nose_wide</th>\n",
       "      <th>0</th>\n",
       "      <th>1</th>\n",
       "    </tr>\n",
       "    <tr>\n",
       "      <th>gender</th>\n",
       "      <th></th>\n",
       "      <th></th>\n",
       "    </tr>\n",
       "  </thead>\n",
       "  <tbody>\n",
       "    <tr>\n",
       "      <th>Female</th>\n",
       "      <td>0.885246</td>\n",
       "      <td>0.114754</td>\n",
       "    </tr>\n",
       "    <tr>\n",
       "      <th>Male</th>\n",
       "      <td>0.126800</td>\n",
       "      <td>0.873200</td>\n",
       "    </tr>\n",
       "  </tbody>\n",
       "</table>\n",
       "</div>"
      ],
      "text/plain": [
       "nose_wide         0         1\n",
       "gender                       \n",
       "Female     0.885246  0.114754\n",
       "Male       0.126800  0.873200"
      ]
     },
     "execution_count": 11,
     "metadata": {},
     "output_type": "execute_result"
    }
   ],
   "source": [
    "# Dataframe showing percentage widness/thinness of nose by gender\n",
    "# using normalize='index' normalizes by dividing all values by the sum of 'index' values.... Calculates percentage\n",
    "pd.crosstab(data['gender'], data['nose_wide'], normalize='index')"
   ]
  },
  {
   "cell_type": "markdown",
   "metadata": {},
   "source": [
    "* From the table above, the data suggests that males generally have wider nose than females.\n",
    "Out of 5001 samples comprising of 2500 males and 2501 females\n",
    "    - 11% of females have wide nose, 88% have narrow nostrils\n",
    "    - 87% of males have wide nostrils, 12% have narrow nostrils\n",
    "* Widness of nose is a key factor to consider as there seems to be a polarity in widness of nose for both genders"
   ]
  },
  {
   "cell_type": "code",
   "execution_count": 12,
   "metadata": {},
   "outputs": [
    {
     "data": {
      "text/plain": [
       "gender  long_hair\n",
       "Female  1            2184\n",
       "        0             317\n",
       "Male    1            2165\n",
       "        0             335\n",
       "Name: long_hair, dtype: int64"
      ]
     },
     "execution_count": 12,
     "metadata": {},
     "output_type": "execute_result"
    }
   ],
   "source": [
    "# Counting number of males and females with long hair\n",
    "long_hair_count = genders['long_hair'].value_counts()\n",
    "long_hair_count"
   ]
  },
  {
   "cell_type": "code",
   "execution_count": 13,
   "metadata": {},
   "outputs": [
    {
     "data": {
      "text/html": [
       "<div>\n",
       "<style scoped>\n",
       "    .dataframe tbody tr th:only-of-type {\n",
       "        vertical-align: middle;\n",
       "    }\n",
       "\n",
       "    .dataframe tbody tr th {\n",
       "        vertical-align: top;\n",
       "    }\n",
       "\n",
       "    .dataframe thead th {\n",
       "        text-align: right;\n",
       "    }\n",
       "</style>\n",
       "<table border=\"1\" class=\"dataframe\">\n",
       "  <thead>\n",
       "    <tr style=\"text-align: right;\">\n",
       "      <th>long_hair</th>\n",
       "      <th>0</th>\n",
       "      <th>1</th>\n",
       "    </tr>\n",
       "    <tr>\n",
       "      <th>gender</th>\n",
       "      <th></th>\n",
       "      <th></th>\n",
       "    </tr>\n",
       "  </thead>\n",
       "  <tbody>\n",
       "    <tr>\n",
       "      <th>Female</th>\n",
       "      <td>0.126749</td>\n",
       "      <td>0.873251</td>\n",
       "    </tr>\n",
       "    <tr>\n",
       "      <th>Male</th>\n",
       "      <td>0.134000</td>\n",
       "      <td>0.866000</td>\n",
       "    </tr>\n",
       "  </tbody>\n",
       "</table>\n",
       "</div>"
      ],
      "text/plain": [
       "long_hair         0         1\n",
       "gender                       \n",
       "Female     0.126749  0.873251\n",
       "Male       0.134000  0.866000"
      ]
     },
     "execution_count": 13,
     "metadata": {},
     "output_type": "execute_result"
    }
   ],
   "source": [
    "pd.crosstab(data['gender'], data['long_hair'], normalize='index')"
   ]
  },
  {
   "cell_type": "markdown",
   "metadata": {},
   "source": [
    "* Hair length is not an important feature to consider as\n",
    "    - 12% of females have short hair, 87% have long hair\n",
    "    - 13% of males have short hair, 12% have long hair\n",
    "* Both genders seem to have the same type of hair length at almost equal percent so hair length is not a determining factor"
   ]
  },
  {
   "cell_type": "code",
   "execution_count": 14,
   "metadata": {},
   "outputs": [
    {
     "data": {
      "text/plain": [
       "gender  nose_long\n",
       "Female  0            2161\n",
       "        1             340\n",
       "Male    1            2200\n",
       "        0             300\n",
       "Name: nose_long, dtype: int64"
      ]
     },
     "execution_count": 14,
     "metadata": {},
     "output_type": "execute_result"
    }
   ],
   "source": [
    "# Counting number of males and females with long nose\n",
    "nose_long_count = genders['nose_long'].value_counts()\n",
    "nose_long_count"
   ]
  },
  {
   "cell_type": "code",
   "execution_count": 15,
   "metadata": {},
   "outputs": [
    {
     "data": {
      "text/html": [
       "<div>\n",
       "<style scoped>\n",
       "    .dataframe tbody tr th:only-of-type {\n",
       "        vertical-align: middle;\n",
       "    }\n",
       "\n",
       "    .dataframe tbody tr th {\n",
       "        vertical-align: top;\n",
       "    }\n",
       "\n",
       "    .dataframe thead th {\n",
       "        text-align: right;\n",
       "    }\n",
       "</style>\n",
       "<table border=\"1\" class=\"dataframe\">\n",
       "  <thead>\n",
       "    <tr style=\"text-align: right;\">\n",
       "      <th>nose_long</th>\n",
       "      <th>0</th>\n",
       "      <th>1</th>\n",
       "    </tr>\n",
       "    <tr>\n",
       "      <th>gender</th>\n",
       "      <th></th>\n",
       "      <th></th>\n",
       "    </tr>\n",
       "  </thead>\n",
       "  <tbody>\n",
       "    <tr>\n",
       "      <th>Female</th>\n",
       "      <td>0.864054</td>\n",
       "      <td>0.135946</td>\n",
       "    </tr>\n",
       "    <tr>\n",
       "      <th>Male</th>\n",
       "      <td>0.120000</td>\n",
       "      <td>0.880000</td>\n",
       "    </tr>\n",
       "  </tbody>\n",
       "</table>\n",
       "</div>"
      ],
      "text/plain": [
       "nose_long         0         1\n",
       "gender                       \n",
       "Female     0.864054  0.135946\n",
       "Male       0.120000  0.880000"
      ]
     },
     "execution_count": 15,
     "metadata": {},
     "output_type": "execute_result"
    }
   ],
   "source": [
    "pd.crosstab(data['gender'], data['nose_long'], normalize='index')"
   ]
  },
  {
   "cell_type": "markdown",
   "metadata": {},
   "source": [
    "* Length of nose (long/short) is an important feature to consider:\n",
    "    - 13% of females have long nose, 86% have short nose\n",
    "    - 88% of males have long nose, 12% have short nose\n",
    "* There is a polarity in length of nose for both genders. The dataset suggests that males generally have longer nose than females"
   ]
  },
  {
   "cell_type": "code",
   "execution_count": 16,
   "metadata": {},
   "outputs": [
    {
     "data": {
      "text/plain": [
       "gender  lips_thin\n",
       "Female  0            2197\n",
       "        1             304\n",
       "Male    1            2162\n",
       "        0             338\n",
       "Name: lips_thin, dtype: int64"
      ]
     },
     "execution_count": 16,
     "metadata": {},
     "output_type": "execute_result"
    }
   ],
   "source": [
    "# Counting number of males and females with thin lips\n",
    "lips_thin_count = genders['lips_thin'].value_counts()\n",
    "lips_thin_count"
   ]
  },
  {
   "cell_type": "code",
   "execution_count": 17,
   "metadata": {},
   "outputs": [
    {
     "data": {
      "text/html": [
       "<div>\n",
       "<style scoped>\n",
       "    .dataframe tbody tr th:only-of-type {\n",
       "        vertical-align: middle;\n",
       "    }\n",
       "\n",
       "    .dataframe tbody tr th {\n",
       "        vertical-align: top;\n",
       "    }\n",
       "\n",
       "    .dataframe thead th {\n",
       "        text-align: right;\n",
       "    }\n",
       "</style>\n",
       "<table border=\"1\" class=\"dataframe\">\n",
       "  <thead>\n",
       "    <tr style=\"text-align: right;\">\n",
       "      <th>lips_thin</th>\n",
       "      <th>0</th>\n",
       "      <th>1</th>\n",
       "    </tr>\n",
       "    <tr>\n",
       "      <th>gender</th>\n",
       "      <th></th>\n",
       "      <th></th>\n",
       "    </tr>\n",
       "  </thead>\n",
       "  <tbody>\n",
       "    <tr>\n",
       "      <th>Female</th>\n",
       "      <td>0.878449</td>\n",
       "      <td>0.121551</td>\n",
       "    </tr>\n",
       "    <tr>\n",
       "      <th>Male</th>\n",
       "      <td>0.135200</td>\n",
       "      <td>0.864800</td>\n",
       "    </tr>\n",
       "  </tbody>\n",
       "</table>\n",
       "</div>"
      ],
      "text/plain": [
       "lips_thin         0         1\n",
       "gender                       \n",
       "Female     0.878449  0.121551\n",
       "Male       0.135200  0.864800"
      ]
     },
     "execution_count": 17,
     "metadata": {},
     "output_type": "execute_result"
    }
   ],
   "source": [
    "pd.crosstab(data['gender'], data['lips_thin'], normalize='index')"
   ]
  },
  {
   "cell_type": "markdown",
   "metadata": {},
   "source": [
    "* Thinness of lips is an important feature to consider:\n",
    "    - 12% of females have thin lips, 88% have thick lips\n",
    "    - 86% of males have thin lips, 12% have thick\n",
    "* There is a polarity in length of nose for both genders. The dataset suggests that males generally have thiner lips than females."
   ]
  },
  {
   "cell_type": "code",
   "execution_count": 18,
   "metadata": {},
   "outputs": [
    {
     "data": {
      "text/plain": [
       "gender  distance_nose_to_lip_long\n",
       "Female  0                            2197\n",
       "        1                             304\n",
       "Male    1                            2191\n",
       "        0                             309\n",
       "Name: distance_nose_to_lip_long, dtype: int64"
      ]
     },
     "execution_count": 18,
     "metadata": {},
     "output_type": "execute_result"
    }
   ],
   "source": [
    "distance_nose_to_lip_long_count = genders['distance_nose_to_lip_long'].value_counts()\n",
    "distance_nose_to_lip_long_count"
   ]
  },
  {
   "cell_type": "code",
   "execution_count": 19,
   "metadata": {},
   "outputs": [
    {
     "data": {
      "text/html": [
       "<div>\n",
       "<style scoped>\n",
       "    .dataframe tbody tr th:only-of-type {\n",
       "        vertical-align: middle;\n",
       "    }\n",
       "\n",
       "    .dataframe tbody tr th {\n",
       "        vertical-align: top;\n",
       "    }\n",
       "\n",
       "    .dataframe thead th {\n",
       "        text-align: right;\n",
       "    }\n",
       "</style>\n",
       "<table border=\"1\" class=\"dataframe\">\n",
       "  <thead>\n",
       "    <tr style=\"text-align: right;\">\n",
       "      <th>distance_nose_to_lip_long</th>\n",
       "      <th>0</th>\n",
       "      <th>1</th>\n",
       "    </tr>\n",
       "    <tr>\n",
       "      <th>gender</th>\n",
       "      <th></th>\n",
       "      <th></th>\n",
       "    </tr>\n",
       "  </thead>\n",
       "  <tbody>\n",
       "    <tr>\n",
       "      <th>Female</th>\n",
       "      <td>0.878449</td>\n",
       "      <td>0.121551</td>\n",
       "    </tr>\n",
       "    <tr>\n",
       "      <th>Male</th>\n",
       "      <td>0.123600</td>\n",
       "      <td>0.876400</td>\n",
       "    </tr>\n",
       "  </tbody>\n",
       "</table>\n",
       "</div>"
      ],
      "text/plain": [
       "distance_nose_to_lip_long         0         1\n",
       "gender                                       \n",
       "Female                     0.878449  0.121551\n",
       "Male                       0.123600  0.876400"
      ]
     },
     "execution_count": 19,
     "metadata": {},
     "output_type": "execute_result"
    }
   ],
   "source": [
    "pd.crosstab(data['gender'], data['distance_nose_to_lip_long'], normalize='index')"
   ]
  },
  {
   "cell_type": "markdown",
   "metadata": {},
   "source": [
    "* Distance of nose to lips is an important feature to consider:\n",
    "    - 12% of females have long distance between their lips and nose, 88% have short distance\n",
    "    - 86% of males have long distance between their lips and nose, 12% have short distance\n",
    "* There is a polarity in distance of nose to lips for both genders. The dataset suggests that males generally have longer distance between their lips and nose as opposed to females."
   ]
  },
  {
   "cell_type": "markdown",
   "metadata": {},
   "source": [
    "## FE - Feature Engineering"
   ]
  },
  {
   "cell_type": "code",
   "execution_count": 20,
   "metadata": {},
   "outputs": [
    {
     "data": {
      "text/html": [
       "<div>\n",
       "<style scoped>\n",
       "    .dataframe tbody tr th:only-of-type {\n",
       "        vertical-align: middle;\n",
       "    }\n",
       "\n",
       "    .dataframe tbody tr th {\n",
       "        vertical-align: top;\n",
       "    }\n",
       "\n",
       "    .dataframe thead th {\n",
       "        text-align: right;\n",
       "    }\n",
       "</style>\n",
       "<table border=\"1\" class=\"dataframe\">\n",
       "  <thead>\n",
       "    <tr style=\"text-align: right;\">\n",
       "      <th></th>\n",
       "      <th>long_hair</th>\n",
       "      <th>forehead_width_cm</th>\n",
       "      <th>forehead_height_cm</th>\n",
       "      <th>nose_wide</th>\n",
       "      <th>nose_long</th>\n",
       "      <th>lips_thin</th>\n",
       "      <th>distance_nose_to_lip_long</th>\n",
       "      <th>gender</th>\n",
       "    </tr>\n",
       "  </thead>\n",
       "  <tbody>\n",
       "    <tr>\n",
       "      <th>0</th>\n",
       "      <td>1</td>\n",
       "      <td>11.8</td>\n",
       "      <td>6.1</td>\n",
       "      <td>1</td>\n",
       "      <td>0</td>\n",
       "      <td>1</td>\n",
       "      <td>1</td>\n",
       "      <td>Male</td>\n",
       "    </tr>\n",
       "    <tr>\n",
       "      <th>1</th>\n",
       "      <td>0</td>\n",
       "      <td>14.0</td>\n",
       "      <td>5.4</td>\n",
       "      <td>0</td>\n",
       "      <td>0</td>\n",
       "      <td>1</td>\n",
       "      <td>0</td>\n",
       "      <td>Female</td>\n",
       "    </tr>\n",
       "    <tr>\n",
       "      <th>2</th>\n",
       "      <td>0</td>\n",
       "      <td>11.8</td>\n",
       "      <td>6.3</td>\n",
       "      <td>1</td>\n",
       "      <td>1</td>\n",
       "      <td>1</td>\n",
       "      <td>1</td>\n",
       "      <td>Male</td>\n",
       "    </tr>\n",
       "    <tr>\n",
       "      <th>3</th>\n",
       "      <td>0</td>\n",
       "      <td>14.4</td>\n",
       "      <td>6.1</td>\n",
       "      <td>0</td>\n",
       "      <td>1</td>\n",
       "      <td>1</td>\n",
       "      <td>1</td>\n",
       "      <td>Male</td>\n",
       "    </tr>\n",
       "    <tr>\n",
       "      <th>4</th>\n",
       "      <td>1</td>\n",
       "      <td>13.5</td>\n",
       "      <td>5.9</td>\n",
       "      <td>0</td>\n",
       "      <td>0</td>\n",
       "      <td>0</td>\n",
       "      <td>0</td>\n",
       "      <td>Female</td>\n",
       "    </tr>\n",
       "  </tbody>\n",
       "</table>\n",
       "</div>"
      ],
      "text/plain": [
       "   long_hair  forehead_width_cm  forehead_height_cm  nose_wide  nose_long  \\\n",
       "0          1               11.8                 6.1          1          0   \n",
       "1          0               14.0                 5.4          0          0   \n",
       "2          0               11.8                 6.3          1          1   \n",
       "3          0               14.4                 6.1          0          1   \n",
       "4          1               13.5                 5.9          0          0   \n",
       "\n",
       "   lips_thin  distance_nose_to_lip_long  gender  \n",
       "0          1                          1    Male  \n",
       "1          1                          0  Female  \n",
       "2          1                          1    Male  \n",
       "3          1                          1    Male  \n",
       "4          0                          0  Female  "
      ]
     },
     "execution_count": 20,
     "metadata": {},
     "output_type": "execute_result"
    }
   ],
   "source": [
    "data.head()"
   ]
  },
  {
   "cell_type": "code",
   "execution_count": 21,
   "metadata": {},
   "outputs": [],
   "source": [
    "# Dropping the long_hair column as it is not a determining factor\n",
    "data = data.drop('long_hair', axis=1)\n",
    "\n",
    "# Mapping genders to 0 and 1\n",
    "gender={\n",
    "    'Female':0,\n",
    "    'Male': 1\n",
    "}\n",
    "data['gender'] = data['gender'].map(gender)\n",
    "\n",
    "# splitting data into independent and dependent variables\n",
    "x = data.drop('gender', axis=1)\n",
    "y = data['gender']"
   ]
  },
  {
   "cell_type": "code",
   "execution_count": 22,
   "metadata": {},
   "outputs": [
    {
     "data": {
      "text/html": [
       "<div>\n",
       "<style scoped>\n",
       "    .dataframe tbody tr th:only-of-type {\n",
       "        vertical-align: middle;\n",
       "    }\n",
       "\n",
       "    .dataframe tbody tr th {\n",
       "        vertical-align: top;\n",
       "    }\n",
       "\n",
       "    .dataframe thead th {\n",
       "        text-align: right;\n",
       "    }\n",
       "</style>\n",
       "<table border=\"1\" class=\"dataframe\">\n",
       "  <thead>\n",
       "    <tr style=\"text-align: right;\">\n",
       "      <th></th>\n",
       "      <th>forehead_width_cm</th>\n",
       "      <th>forehead_height_cm</th>\n",
       "      <th>nose_wide</th>\n",
       "      <th>nose_long</th>\n",
       "      <th>lips_thin</th>\n",
       "      <th>distance_nose_to_lip_long</th>\n",
       "      <th>gender</th>\n",
       "    </tr>\n",
       "  </thead>\n",
       "  <tbody>\n",
       "    <tr>\n",
       "      <th>0</th>\n",
       "      <td>11.8</td>\n",
       "      <td>6.1</td>\n",
       "      <td>1</td>\n",
       "      <td>0</td>\n",
       "      <td>1</td>\n",
       "      <td>1</td>\n",
       "      <td>1</td>\n",
       "    </tr>\n",
       "    <tr>\n",
       "      <th>1</th>\n",
       "      <td>14.0</td>\n",
       "      <td>5.4</td>\n",
       "      <td>0</td>\n",
       "      <td>0</td>\n",
       "      <td>1</td>\n",
       "      <td>0</td>\n",
       "      <td>0</td>\n",
       "    </tr>\n",
       "    <tr>\n",
       "      <th>2</th>\n",
       "      <td>11.8</td>\n",
       "      <td>6.3</td>\n",
       "      <td>1</td>\n",
       "      <td>1</td>\n",
       "      <td>1</td>\n",
       "      <td>1</td>\n",
       "      <td>1</td>\n",
       "    </tr>\n",
       "    <tr>\n",
       "      <th>3</th>\n",
       "      <td>14.4</td>\n",
       "      <td>6.1</td>\n",
       "      <td>0</td>\n",
       "      <td>1</td>\n",
       "      <td>1</td>\n",
       "      <td>1</td>\n",
       "      <td>1</td>\n",
       "    </tr>\n",
       "    <tr>\n",
       "      <th>4</th>\n",
       "      <td>13.5</td>\n",
       "      <td>5.9</td>\n",
       "      <td>0</td>\n",
       "      <td>0</td>\n",
       "      <td>0</td>\n",
       "      <td>0</td>\n",
       "      <td>0</td>\n",
       "    </tr>\n",
       "  </tbody>\n",
       "</table>\n",
       "</div>"
      ],
      "text/plain": [
       "   forehead_width_cm  forehead_height_cm  nose_wide  nose_long  lips_thin  \\\n",
       "0               11.8                 6.1          1          0          1   \n",
       "1               14.0                 5.4          0          0          1   \n",
       "2               11.8                 6.3          1          1          1   \n",
       "3               14.4                 6.1          0          1          1   \n",
       "4               13.5                 5.9          0          0          0   \n",
       "\n",
       "   distance_nose_to_lip_long  gender  \n",
       "0                          1       1  \n",
       "1                          0       0  \n",
       "2                          1       1  \n",
       "3                          1       1  \n",
       "4                          0       0  "
      ]
     },
     "execution_count": 22,
     "metadata": {},
     "output_type": "execute_result"
    }
   ],
   "source": [
    "data.head()"
   ]
  },
  {
   "cell_type": "code",
   "execution_count": 23,
   "metadata": {},
   "outputs": [],
   "source": [
    "# Splitting data into training and test set\n",
    "\n",
    "x_train, x_test, y_train, y_test = train_test_split(x, y, test_size=0.2, random_state= 32)"
   ]
  },
  {
   "cell_type": "markdown",
   "metadata": {},
   "source": [
    "## Models Training (Without hyperparameters tuning)"
   ]
  },
  {
   "cell_type": "markdown",
   "metadata": {},
   "source": [
    "#### Gaussian Naive Bayes"
   ]
  },
  {
   "cell_type": "code",
   "execution_count": 24,
   "metadata": {},
   "outputs": [
    {
     "data": {
      "text/plain": [
       "GaussianNB()"
      ]
     },
     "execution_count": 24,
     "metadata": {},
     "output_type": "execute_result"
    }
   ],
   "source": [
    "NB_classifier = GaussianNB()\n",
    "NB_classifier.fit(x_train, y_train)\n"
   ]
  },
  {
   "cell_type": "code",
   "execution_count": 25,
   "metadata": {},
   "outputs": [
    {
     "name": "stdout",
     "output_type": "stream",
     "text": [
      "NaiveBayes Classifier prediction score without hyperparameters tuning 88.4 %\n"
     ]
    }
   ],
   "source": [
    "NB_predictions = NB_classifier.predict(x_test)\n",
    "nb_score = r2_score(NB_predictions, y_test)\n",
    "print('NaiveBayes Classifier prediction score without hyperparameters tuning', round(nb_score, 3)*100,'%')"
   ]
  },
  {
   "cell_type": "code",
   "execution_count": 88,
   "metadata": {},
   "outputs": [],
   "source": [
    "NB_confusion_matrix = confusion_matrix(y_test, NB_predictions)"
   ]
  },
  {
   "cell_type": "code",
   "execution_count": 90,
   "metadata": {},
   "outputs": [
    {
     "data": {
      "image/png": "[encoded data removed]",
      "text/plain": [
       "<Figure size 504x360 with 2 Axes>"
      ]
     },
     "metadata": {
      "needs_background": "light"
     },
     "output_type": "display_data"
    }
   ],
   "source": [
    "plt.figure(figsize=(7,5))\n",
    "sns.heatmap(NB_confusion_matrix, cmap='Greens', annot=True, fmt='', xticklabels=['Female', 'Male'], yticklabels=['Female', 'Male']) #fmt specifies format i.e 2dp percentage, whole number. float\n",
    "plt.title(\"GaussianNB Heat Map of Actual gender/Predicted\")\n",
    "\n",
    "plt.show()"
   ]
  },
  {
   "cell_type": "markdown",
   "metadata": {},
   "source": [
    "#### XGBoost Classifier"
   ]
  },
  {
   "cell_type": "code",
   "execution_count": 26,
   "metadata": {},
   "outputs": [
    {
     "data": {
      "text/plain": [
       "XGBClassifier(base_score=0.5, booster='gbtree', colsample_bylevel=1,\n",
       "              colsample_bynode=1, colsample_bytree=1, enable_categorical=False,\n",
       "              eval_metric='logloss', gamma=0, gpu_id=-1, importance_type=None,\n",
       "              interaction_constraints='', learning_rate=0.300000012,\n",
       "              max_delta_step=0, max_depth=6, min_child_weight=1, missing=nan,\n",
       "              monotone_constraints='()', n_estimators=100, n_jobs=8,\n",
       "              num_parallel_tree=1, predictor='auto', random_state=0,\n",
       "              reg_alpha=0, reg_lambda=1, scale_pos_weight=1, subsample=1,\n",
       "              tree_method='exact', validate_parameters=1, verbosity=None)"
      ]
     },
     "execution_count": 26,
     "metadata": {},
     "output_type": "execute_result"
    }
   ],
   "source": [
    "XGB_classifier = XGBClassifier(eval_metric= 'logloss')\n",
    "XGB_classifier.fit(x_train, y_train)"
   ]
  },
  {
   "cell_type": "code",
   "execution_count": 27,
   "metadata": {},
   "outputs": [
    {
     "name": "stdout",
     "output_type": "stream",
     "text": [
      "XGB Classifier prediction score without hyperparameters tuning 86.8 %\n"
     ]
    }
   ],
   "source": [
    "XGB_predictions = XGB_classifier.predict(x_test)\n",
    "nb_score = r2_score(XGB_predictions, y_test)\n",
    "print('XGB Classifier prediction score without hyperparameters tuning', round(nb_score, 3)*100,'%')"
   ]
  },
  {
   "cell_type": "markdown",
   "metadata": {},
   "source": [
    "#### SVM Classifier"
   ]
  },
  {
   "cell_type": "code",
   "execution_count": 28,
   "metadata": {},
   "outputs": [
    {
     "data": {
      "text/plain": [
       "SVC()"
      ]
     },
     "execution_count": 28,
     "metadata": {},
     "output_type": "execute_result"
    }
   ],
   "source": [
    "SVM_classifier = svm.SVC()\n",
    "SVM_classifier.fit(x_train, y_train)"
   ]
  },
  {
   "cell_type": "code",
   "execution_count": 29,
   "metadata": {},
   "outputs": [
    {
     "name": "stdout",
     "output_type": "stream",
     "text": [
      "SVM Classifier prediction score without hyperparameters tuning 90.0 %\n"
     ]
    }
   ],
   "source": [
    "SVM_predictions = SVM_classifier.predict(x_test)\n",
    "nb_score = r2_score(SVM_predictions, y_test)\n",
    "print('SVM Classifier prediction score without hyperparameters tuning', round(nb_score, 3)*100,'%')"
   ]
  },
  {
   "cell_type": "markdown",
   "metadata": {},
   "source": [
    "## Corss Validation/Hyper parameters tuning"
   ]
  },
  {
   "cell_type": "markdown",
   "metadata": {},
   "source": [
    "> There will be no hyper parameter tuning for Naive Bayes as there are little to no hypeparameters to adjust"
   ]
  },
  {
   "cell_type": "markdown",
   "metadata": {},
   "source": [
    "#### XGBoost Classifier"
   ]
  },
  {
   "cell_type": "code",
   "execution_count": 81,
   "metadata": {},
   "outputs": [],
   "source": [
    "# Parameters dictionary\n",
    "params_XGB = {\n",
    "    'learning_rate': [0.01, 0.1, 0.2],\n",
    "    'n_estimators': [100, 200, 300, 400],\n",
    "    'max_depth': [3,4,5,6,7],\n",
    "    'subsample': [0.8, 0.9, 1],\n",
    "    'colsample_bytree': [0.3, 0.4, 0.5, 0.6, 0.7, 0.8, 0.9, 1,0],\n",
    "    'gamma': [0, 1, 5],\n",
    "}\n",
    "\n",
    "\n",
    "# random_search = RandomizedSearchCV(XGB_classifier, param_distributions=params_XGB, n_jobs= -1, verbose=0)\n",
    "# random_search.fit(x_train, y_train)"
   ]
  },
  {
   "cell_type": "code",
   "execution_count": 82,
   "metadata": {},
   "outputs": [],
   "source": [
    "# random_search.best_estimator_"
   ]
  },
  {
   "cell_type": "code",
   "execution_count": 32,
   "metadata": {},
   "outputs": [],
   "source": [
    "# plt.figure(figsize=(7,5))\n",
    "# sns.heatmap(NB_confusion_matrix, cmap='Greens', annot=True, fmt='', xticklabels=['Female', 'Male'], yticklabels=['Female', 'Male']) #fmt specifies format i.e 2dp percentage, whole number. float\n",
    "# plt.title(\"Heat Map of Actual gender/Predicted\")\n",
    "\n",
    "# plt.show()"
   ]
  },
  {
   "cell_type": "code",
   "execution_count": 38,
   "metadata": {},
   "outputs": [
    {
     "name": "stdout",
     "output_type": "stream",
     "text": [
      "[13:14:56] WARNING: C:/Users/Administrator/workspace/xgboost-win64_release_1.5.1/src/learner.cc:1115: Starting in XGBoost 1.3.0, the default evaluation metric used with the objective 'binary:logistic' was changed from 'error' to 'logloss'. Explicitly set eval_metric if you'd like to restore the old behavior.\n"
     ]
    },
    {
     "data": {
      "text/plain": [
       "GridSearchCV(estimator=XGBClassifier(base_score=0.5, booster='gbtree',\n",
       "                                     colsample_bylevel=1, colsample_bynode=1,\n",
       "                                     colsample_bytree=0.6,\n",
       "                                     enable_categorical=False, gamma=0,\n",
       "                                     gpu_id=-1, importance_type=None,\n",
       "                                     interaction_constraints='',\n",
       "                                     learning_rate=0.01, max_delta_step=0,\n",
       "                                     max_depth=3, min_child_weight=1,\n",
       "                                     missing=nan, monotone_constraints='()',\n",
       "                                     n_estimators=400, n_jobs=8,\n",
       "                                     num_parallel_tree=1, predictor='auto',\n",
       "                                     random_state=0, reg_alpha=0, reg_lambda=1,\n",
       "                                     scale_pos_weight=1, subsample=0.8,\n",
       "                                     tree_method='exact', validate_parameters=1,\n",
       "                                     verbosity=None),\n",
       "             n_jobs=-1,\n",
       "             param_grid={'colsample_bytree': [0.3, 0.4, 0.5, 0.6, 0.7, 0.8, 0.9,\n",
       "                                              1, 0],\n",
       "                         'gamma': [0, 1, 5], 'learning_rate': [0.01, 0.1, 0.2],\n",
       "                         'max_depth': [3, 4, 5, 6, 7],\n",
       "                         'n_estimators': [100, 200, 300, 400],\n",
       "                         'subsample': [0.8, 0.9, 1]})"
      ]
     },
     "execution_count": 38,
     "metadata": {},
     "output_type": "execute_result"
    }
   ],
   "source": [
    "grid_search = GridSearchCV(XGB_classifier, param_grid=params_XGB, n_jobs= -1, verbose=0)\n",
    "grid_search.fit(x_train, y_train)"
   ]
  },
  {
   "cell_type": "code",
   "execution_count": 39,
   "metadata": {},
   "outputs": [
    {
     "data": {
      "text/plain": [
       "XGBClassifier(base_score=0.5, booster='gbtree', colsample_bylevel=1,\n",
       "              colsample_bynode=1, colsample_bytree=0.3,\n",
       "              enable_categorical=False, gamma=1, gpu_id=-1,\n",
       "              importance_type=None, interaction_constraints='',\n",
       "              learning_rate=0.1, max_delta_step=0, max_depth=7,\n",
       "              min_child_weight=1, missing=nan, monotone_constraints='()',\n",
       "              n_estimators=200, n_jobs=8, num_parallel_tree=1, predictor='auto',\n",
       "              random_state=0, reg_alpha=0, reg_lambda=1, scale_pos_weight=1,\n",
       "              subsample=1, tree_method='exact', validate_parameters=1,\n",
       "              verbosity=None)"
      ]
     },
     "execution_count": 39,
     "metadata": {},
     "output_type": "execute_result"
    }
   ],
   "source": [
    "grid_search.best_estimator_"
   ]
  },
  {
   "cell_type": "code",
   "execution_count": 96,
   "metadata": {},
   "outputs": [],
   "source": [
    "#XGBClassifier trained with tuned hyper-paraeters \n",
    "\n",
    "XGB_tuned_classifier = XGBClassifier(colsample_bytree=0.3, gamma=1, learning_rate=0.01, max_depth=7, n_estimators=200, subsample=1, eval_metric= 'logloss')"
   ]
  },
  {
   "cell_type": "code",
   "execution_count": 97,
   "metadata": {},
   "outputs": [
    {
     "data": {
      "text/plain": [
       "XGBClassifier(base_score=0.5, booster='gbtree', colsample_bylevel=1,\n",
       "              colsample_bynode=1, colsample_bytree=0.3,\n",
       "              enable_categorical=False, eval_metric='logloss', gamma=1,\n",
       "              gpu_id=-1, importance_type=None, interaction_constraints='',\n",
       "              learning_rate=0.01, max_delta_step=0, max_depth=7,\n",
       "              min_child_weight=1, missing=nan, monotone_constraints='()',\n",
       "              n_estimators=200, n_jobs=8, num_parallel_tree=1, predictor='auto',\n",
       "              random_state=0, reg_alpha=0, reg_lambda=1, scale_pos_weight=1,\n",
       "              subsample=1, tree_method='exact', validate_parameters=1,\n",
       "              verbosity=None)"
      ]
     },
     "execution_count": 97,
     "metadata": {},
     "output_type": "execute_result"
    }
   ],
   "source": [
    "XGB_tuned_classifier.fit(x_train,y_train)"
   ]
  },
  {
   "cell_type": "code",
   "execution_count": 98,
   "metadata": {},
   "outputs": [
    {
     "name": "stdout",
     "output_type": "stream",
     "text": [
      "XGB Classifier prediction score with hyperparameters tuning 92.0 %\n"
     ]
    }
   ],
   "source": [
    "XGB_tuned_predictions = XGB_classifier.predict(x_test)\n",
    "XGB_tuned_score = r2_score(XGB_tuned_predictions, y_test)\n",
    "print('XGB Classifier prediction score with hyperparameters tuning', round(XGB_tuned_score, 2)*100,'%')"
   ]
  },
  {
   "cell_type": "code",
   "execution_count": 99,
   "metadata": {},
   "outputs": [
    {
     "name": "stdout",
     "output_type": "stream",
     "text": [
      "[0]\tvalidation_0-logloss:0.68761\tvalidation_0-auc:0.87350\tvalidation_1-logloss:0.68731\tvalidation_1-auc:0.89309\n",
      "[1]\tvalidation_0-logloss:0.68215\tvalidation_0-auc:0.95520\tvalidation_1-logloss:0.68191\tvalidation_1-auc:0.96820\n",
      "[2]\tvalidation_0-logloss:0.67668\tvalidation_0-auc:0.98377\tvalidation_1-logloss:0.67615\tvalidation_1-auc:0.99066\n",
      "[3]\tvalidation_0-logloss:0.67139\tvalidation_0-auc:0.99371\tvalidation_1-logloss:0.67082\tvalidation_1-auc:0.99610\n",
      "[4]\tvalidation_0-logloss:0.66948\tvalidation_0-auc:0.99589\tvalidation_1-logloss:0.66905\tvalidation_1-auc:0.99601\n",
      "[5]\tvalidation_0-logloss:0.66761\tvalidation_0-auc:0.99629\tvalidation_1-logloss:0.66731\tvalidation_1-auc:0.99614\n",
      "[6]\tvalidation_0-logloss:0.66242\tvalidation_0-auc:0.99437\tvalidation_1-logloss:0.66217\tvalidation_1-auc:0.99315\n",
      "[7]\tvalidation_0-logloss:0.65733\tvalidation_0-auc:0.99447\tvalidation_1-logloss:0.65704\tvalidation_1-auc:0.99335\n",
      "[8]\tvalidation_0-logloss:0.65554\tvalidation_0-auc:0.99454\tvalidation_1-logloss:0.65538\tvalidation_1-auc:0.99322\n",
      "[9]\tvalidation_0-logloss:0.65039\tvalidation_0-auc:0.99626\tvalidation_1-logloss:0.64997\tvalidation_1-auc:0.99527\n",
      "[10]\tvalidation_0-logloss:0.64547\tvalidation_0-auc:0.99509\tvalidation_1-logloss:0.64501\tvalidation_1-auc:0.99350\n",
      "[11]\tvalidation_0-logloss:0.64048\tvalidation_0-auc:0.99565\tvalidation_1-logloss:0.63976\tvalidation_1-auc:0.99356\n",
      "[12]\tvalidation_0-logloss:0.63558\tvalidation_0-auc:0.99427\tvalidation_1-logloss:0.63460\tvalidation_1-auc:0.99220\n",
      "[13]\tvalidation_0-logloss:0.63419\tvalidation_0-auc:0.99492\tvalidation_1-logloss:0.63309\tvalidation_1-auc:0.99294\n",
      "[14]\tvalidation_0-logloss:0.62940\tvalidation_0-auc:0.99576\tvalidation_1-logloss:0.62835\tvalidation_1-auc:0.99431\n",
      "[15]\tvalidation_0-logloss:0.62473\tvalidation_0-auc:0.99570\tvalidation_1-logloss:0.62367\tvalidation_1-auc:0.99423\n",
      "[16]\tvalidation_0-logloss:0.61997\tvalidation_0-auc:0.99642\tvalidation_1-logloss:0.61865\tvalidation_1-auc:0.99545\n",
      "[17]\tvalidation_0-logloss:0.61865\tvalidation_0-auc:0.99672\tvalidation_1-logloss:0.61720\tvalidation_1-auc:0.99584\n",
      "[18]\tvalidation_0-logloss:0.61399\tvalidation_0-auc:0.99679\tvalidation_1-logloss:0.61229\tvalidation_1-auc:0.99649\n",
      "[19]\tvalidation_0-logloss:0.60941\tvalidation_0-auc:0.99670\tvalidation_1-logloss:0.60747\tvalidation_1-auc:0.99622\n",
      "[20]\tvalidation_0-logloss:0.60491\tvalidation_0-auc:0.99607\tvalidation_1-logloss:0.60274\tvalidation_1-auc:0.99552\n",
      "[21]\tvalidation_0-logloss:0.60366\tvalidation_0-auc:0.99616\tvalidation_1-logloss:0.60136\tvalidation_1-auc:0.99563\n",
      "[22]\tvalidation_0-logloss:0.59929\tvalidation_0-auc:0.99616\tvalidation_1-logloss:0.59698\tvalidation_1-auc:0.99553\n",
      "[23]\tvalidation_0-logloss:0.59500\tvalidation_0-auc:0.99547\tvalidation_1-logloss:0.59268\tvalidation_1-auc:0.99466\n",
      "[24]\tvalidation_0-logloss:0.59064\tvalidation_0-auc:0.99630\tvalidation_1-logloss:0.58838\tvalidation_1-auc:0.99558\n",
      "[25]\tvalidation_0-logloss:0.58944\tvalidation_0-auc:0.99645\tvalidation_1-logloss:0.58707\tvalidation_1-auc:0.99579\n",
      "[26]\tvalidation_0-logloss:0.58826\tvalidation_0-auc:0.99654\tvalidation_1-logloss:0.58579\tvalidation_1-auc:0.99599\n",
      "[27]\tvalidation_0-logloss:0.58401\tvalidation_0-auc:0.99622\tvalidation_1-logloss:0.58132\tvalidation_1-auc:0.99540\n",
      "[28]\tvalidation_0-logloss:0.57984\tvalidation_0-auc:0.99560\tvalidation_1-logloss:0.57693\tvalidation_1-auc:0.99493\n",
      "[29]\tvalidation_0-logloss:0.57574\tvalidation_0-auc:0.99513\tvalidation_1-logloss:0.57263\tvalidation_1-auc:0.99425\n",
      "[30]\tvalidation_0-logloss:0.57462\tvalidation_0-auc:0.99515\tvalidation_1-logloss:0.57140\tvalidation_1-auc:0.99427\n",
      "[31]\tvalidation_0-logloss:0.57351\tvalidation_0-auc:0.99518\tvalidation_1-logloss:0.57020\tvalidation_1-auc:0.99432\n",
      "[32]\tvalidation_0-logloss:0.56951\tvalidation_0-auc:0.99403\tvalidation_1-logloss:0.56599\tvalidation_1-auc:0.99333\n",
      "[33]\tvalidation_0-logloss:0.56559\tvalidation_0-auc:0.99302\tvalidation_1-logloss:0.56186\tvalidation_1-auc:0.99280\n",
      "[34]\tvalidation_0-logloss:0.56453\tvalidation_0-auc:0.99309\tvalidation_1-logloss:0.56070\tvalidation_1-auc:0.99285\n",
      "[35]\tvalidation_0-logloss:0.56348\tvalidation_0-auc:0.99315\tvalidation_1-logloss:0.55956\tvalidation_1-auc:0.99292\n",
      "[36]\tvalidation_0-logloss:0.56245\tvalidation_0-auc:0.99320\tvalidation_1-logloss:0.55844\tvalidation_1-auc:0.99296\n",
      "[37]\tvalidation_0-logloss:0.55863\tvalidation_0-auc:0.99265\tvalidation_1-logloss:0.55442\tvalidation_1-auc:0.99255\n",
      "[38]\tvalidation_0-logloss:0.55465\tvalidation_0-auc:0.99285\tvalidation_1-logloss:0.55052\tvalidation_1-auc:0.99282\n",
      "[39]\tvalidation_0-logloss:0.55074\tvalidation_0-auc:0.99352\tvalidation_1-logloss:0.54669\tvalidation_1-auc:0.99316\n",
      "[40]\tvalidation_0-logloss:0.54933\tvalidation_0-auc:0.99430\tvalidation_1-logloss:0.54539\tvalidation_1-auc:0.99369\n",
      "[41]\tvalidation_0-logloss:0.54540\tvalidation_0-auc:0.99449\tvalidation_1-logloss:0.54124\tvalidation_1-auc:0.99383\n",
      "[42]\tvalidation_0-logloss:0.54443\tvalidation_0-auc:0.99455\tvalidation_1-logloss:0.54018\tvalidation_1-auc:0.99407\n",
      "[43]\tvalidation_0-logloss:0.54347\tvalidation_0-auc:0.99456\tvalidation_1-logloss:0.53914\tvalidation_1-auc:0.99412\n",
      "[44]\tvalidation_0-logloss:0.54211\tvalidation_0-auc:0.99468\tvalidation_1-logloss:0.53788\tvalidation_1-auc:0.99419\n",
      "[45]\tvalidation_0-logloss:0.53838\tvalidation_0-auc:0.99498\tvalidation_1-logloss:0.53417\tvalidation_1-auc:0.99430\n",
      "[46]\tvalidation_0-logloss:0.53466\tvalidation_0-auc:0.99511\tvalidation_1-logloss:0.53053\tvalidation_1-auc:0.99447\n",
      "[47]\tvalidation_0-logloss:0.53101\tvalidation_0-auc:0.99540\tvalidation_1-logloss:0.52696\tvalidation_1-auc:0.99491\n",
      "[48]\tvalidation_0-logloss:0.52971\tvalidation_0-auc:0.99560\tvalidation_1-logloss:0.52578\tvalidation_1-auc:0.99484\n",
      "[49]\tvalidation_0-logloss:0.52613\tvalidation_0-auc:0.99573\tvalidation_1-logloss:0.52228\tvalidation_1-auc:0.99517\n",
      "[50]\tvalidation_0-logloss:0.52523\tvalidation_0-auc:0.99574\tvalidation_1-logloss:0.52130\tvalidation_1-auc:0.99521\n",
      "[51]\tvalidation_0-logloss:0.52177\tvalidation_0-auc:0.99541\tvalidation_1-logloss:0.51767\tvalidation_1-auc:0.99471\n",
      "[52]\tvalidation_0-logloss:0.52089\tvalidation_0-auc:0.99540\tvalidation_1-logloss:0.51671\tvalidation_1-auc:0.99473\n",
      "[53]\tvalidation_0-logloss:0.52002\tvalidation_0-auc:0.99540\tvalidation_1-logloss:0.51577\tvalidation_1-auc:0.99476\n",
      "[54]\tvalidation_0-logloss:0.51877\tvalidation_0-auc:0.99559\tvalidation_1-logloss:0.51465\tvalidation_1-auc:0.99485\n",
      "[55]\tvalidation_0-logloss:0.51532\tvalidation_0-auc:0.99566\tvalidation_1-logloss:0.51128\tvalidation_1-auc:0.99507\n",
      "[56]\tvalidation_0-logloss:0.51410\tvalidation_0-auc:0.99582\tvalidation_1-logloss:0.51016\tvalidation_1-auc:0.99521\n",
      "[57]\tvalidation_0-logloss:0.51077\tvalidation_0-auc:0.99554\tvalidation_1-logloss:0.50667\tvalidation_1-auc:0.99470\n",
      "[58]\tvalidation_0-logloss:0.50722\tvalidation_0-auc:0.99581\tvalidation_1-logloss:0.50292\tvalidation_1-auc:0.99522\n",
      "[59]\tvalidation_0-logloss:0.50374\tvalidation_0-auc:0.99596\tvalidation_1-logloss:0.49923\tvalidation_1-auc:0.99562\n",
      "[60]\tvalidation_0-logloss:0.50032\tvalidation_0-auc:0.99641\tvalidation_1-logloss:0.49561\tvalidation_1-auc:0.99613\n",
      "[61]\tvalidation_0-logloss:0.49951\tvalidation_0-auc:0.99641\tvalidation_1-logloss:0.49473\tvalidation_1-auc:0.99614\n",
      "[62]\tvalidation_0-logloss:0.49634\tvalidation_0-auc:0.99591\tvalidation_1-logloss:0.49140\tvalidation_1-auc:0.99565\n",
      "[63]\tvalidation_0-logloss:0.49519\tvalidation_0-auc:0.99596\tvalidation_1-logloss:0.49037\tvalidation_1-auc:0.99569\n",
      "[64]\tvalidation_0-logloss:0.49208\tvalidation_0-auc:0.99568\tvalidation_1-logloss:0.48711\tvalidation_1-auc:0.99538\n",
      "[65]\tvalidation_0-logloss:0.49130\tvalidation_0-auc:0.99568\tvalidation_1-logloss:0.48626\tvalidation_1-auc:0.99536\n",
      "[66]\tvalidation_0-logloss:0.49053\tvalidation_0-auc:0.99568\tvalidation_1-logloss:0.48542\tvalidation_1-auc:0.99537\n",
      "[67]\tvalidation_0-logloss:0.48725\tvalidation_0-auc:0.99583\tvalidation_1-logloss:0.48195\tvalidation_1-auc:0.99579\n",
      "[68]\tvalidation_0-logloss:0.48410\tvalidation_0-auc:0.99596\tvalidation_1-logloss:0.47889\tvalidation_1-auc:0.99590\n",
      "[69]\tvalidation_0-logloss:0.48091\tvalidation_0-auc:0.99635\tvalidation_1-logloss:0.47551\tvalidation_1-auc:0.99643\n",
      "[70]\tvalidation_0-logloss:0.47776\tvalidation_0-auc:0.99664\tvalidation_1-logloss:0.47238\tvalidation_1-auc:0.99678\n",
      "[71]\tvalidation_0-logloss:0.47482\tvalidation_0-auc:0.99628\tvalidation_1-logloss:0.46930\tvalidation_1-auc:0.99619\n",
      "[72]\tvalidation_0-logloss:0.47180\tvalidation_0-auc:0.99635\tvalidation_1-logloss:0.46636\tvalidation_1-auc:0.99627\n",
      "[73]\tvalidation_0-logloss:0.46875\tvalidation_0-auc:0.99658\tvalidation_1-logloss:0.46312\tvalidation_1-auc:0.99685\n",
      "[74]\tvalidation_0-logloss:0.46769\tvalidation_0-auc:0.99666\tvalidation_1-logloss:0.46218\tvalidation_1-auc:0.99690\n",
      "[75]\tvalidation_0-logloss:0.46665\tvalidation_0-auc:0.99674\tvalidation_1-logloss:0.46126\tvalidation_1-auc:0.99694\n",
      "[76]\tvalidation_0-logloss:0.46383\tvalidation_0-auc:0.99645\tvalidation_1-logloss:0.45830\tvalidation_1-auc:0.99652\n",
      "[77]\tvalidation_0-logloss:0.46312\tvalidation_0-auc:0.99644\tvalidation_1-logloss:0.45753\tvalidation_1-auc:0.99652\n",
      "[78]\tvalidation_0-logloss:0.46210\tvalidation_0-auc:0.99649\tvalidation_1-logloss:0.45661\tvalidation_1-auc:0.99647\n",
      "[79]\tvalidation_0-logloss:0.46110\tvalidation_0-auc:0.99657\tvalidation_1-logloss:0.45573\tvalidation_1-auc:0.99653\n",
      "[80]\tvalidation_0-logloss:0.45816\tvalidation_0-auc:0.99675\tvalidation_1-logloss:0.45260\tvalidation_1-auc:0.99699\n",
      "[81]\tvalidation_0-logloss:0.45748\tvalidation_0-auc:0.99674\tvalidation_1-logloss:0.45186\tvalidation_1-auc:0.99695\n",
      "[82]\tvalidation_0-logloss:0.45475\tvalidation_0-auc:0.99642\tvalidation_1-logloss:0.44900\tvalidation_1-auc:0.99657\n",
      "[83]\tvalidation_0-logloss:0.45192\tvalidation_0-auc:0.99651\tvalidation_1-logloss:0.44626\tvalidation_1-auc:0.99658\n",
      "[84]\tvalidation_0-logloss:0.44927\tvalidation_0-auc:0.99610\tvalidation_1-logloss:0.44347\tvalidation_1-auc:0.99622\n",
      "[85]\tvalidation_0-logloss:0.44831\tvalidation_0-auc:0.99617\tvalidation_1-logloss:0.44261\tvalidation_1-auc:0.99625\n",
      "[86]\tvalidation_0-logloss:0.44545\tvalidation_0-auc:0.99658\tvalidation_1-logloss:0.43979\tvalidation_1-auc:0.99658\n",
      "[87]\tvalidation_0-logloss:0.44266\tvalidation_0-auc:0.99674\tvalidation_1-logloss:0.43683\tvalidation_1-auc:0.99694\n",
      "[88]\tvalidation_0-logloss:0.43992\tvalidation_0-auc:0.99682\tvalidation_1-logloss:0.43391\tvalidation_1-auc:0.99710\n",
      "[89]\tvalidation_0-logloss:0.43900\tvalidation_0-auc:0.99686\tvalidation_1-logloss:0.43310\tvalidation_1-auc:0.99711\n",
      "[90]\tvalidation_0-logloss:0.43632\tvalidation_0-auc:0.99689\tvalidation_1-logloss:0.43024\tvalidation_1-auc:0.99729\n",
      "[91]\tvalidation_0-logloss:0.43542\tvalidation_0-auc:0.99695\tvalidation_1-logloss:0.42944\tvalidation_1-auc:0.99732\n",
      "[92]\tvalidation_0-logloss:0.43279\tvalidation_0-auc:0.99694\tvalidation_1-logloss:0.42664\tvalidation_1-auc:0.99740\n",
      "[93]\tvalidation_0-logloss:0.43016\tvalidation_0-auc:0.99696\tvalidation_1-logloss:0.42409\tvalidation_1-auc:0.99742\n",
      "[94]\tvalidation_0-logloss:0.42953\tvalidation_0-auc:0.99697\tvalidation_1-logloss:0.42341\tvalidation_1-auc:0.99745\n",
      "[95]\tvalidation_0-logloss:0.42891\tvalidation_0-auc:0.99696\tvalidation_1-logloss:0.42274\tvalidation_1-auc:0.99742\n",
      "[96]\tvalidation_0-logloss:0.42805\tvalidation_0-auc:0.99699\tvalidation_1-logloss:0.42198\tvalidation_1-auc:0.99742\n",
      "[97]\tvalidation_0-logloss:0.42559\tvalidation_0-auc:0.99693\tvalidation_1-logloss:0.41942\tvalidation_1-auc:0.99733\n",
      "[98]\tvalidation_0-logloss:0.42474\tvalidation_0-auc:0.99696\tvalidation_1-logloss:0.41867\tvalidation_1-auc:0.99734\n",
      "[99]\tvalidation_0-logloss:0.42414\tvalidation_0-auc:0.99696\tvalidation_1-logloss:0.41802\tvalidation_1-auc:0.99735\n",
      "[100]\tvalidation_0-logloss:0.42330\tvalidation_0-auc:0.99699\tvalidation_1-logloss:0.41728\tvalidation_1-auc:0.99740\n",
      "[101]\tvalidation_0-logloss:0.42248\tvalidation_0-auc:0.99701\tvalidation_1-logloss:0.41656\tvalidation_1-auc:0.99741\n",
      "[102]\tvalidation_0-logloss:0.41995\tvalidation_0-auc:0.99702\tvalidation_1-logloss:0.41412\tvalidation_1-auc:0.99730\n",
      "[103]\tvalidation_0-logloss:0.41746\tvalidation_0-auc:0.99701\tvalidation_1-logloss:0.41146\tvalidation_1-auc:0.99745\n",
      "[104]\tvalidation_0-logloss:0.41666\tvalidation_0-auc:0.99706\tvalidation_1-logloss:0.41076\tvalidation_1-auc:0.99745\n",
      "[105]\tvalidation_0-logloss:0.41408\tvalidation_0-auc:0.99710\tvalidation_1-logloss:0.40821\tvalidation_1-auc:0.99750\n",
      "[106]\tvalidation_0-logloss:0.41175\tvalidation_0-auc:0.99706\tvalidation_1-logloss:0.40578\tvalidation_1-auc:0.99742\n",
      "[107]\tvalidation_0-logloss:0.40922\tvalidation_0-auc:0.99709\tvalidation_1-logloss:0.40329\tvalidation_1-auc:0.99748\n",
      "[108]\tvalidation_0-logloss:0.40674\tvalidation_0-auc:0.99710\tvalidation_1-logloss:0.40085\tvalidation_1-auc:0.99747\n",
      "[109]\tvalidation_0-logloss:0.40449\tvalidation_0-auc:0.99708\tvalidation_1-logloss:0.39849\tvalidation_1-auc:0.99746\n",
      "[110]\tvalidation_0-logloss:0.40393\tvalidation_0-auc:0.99709\tvalidation_1-logloss:0.39788\tvalidation_1-auc:0.99746\n",
      "[111]\tvalidation_0-logloss:0.40316\tvalidation_0-auc:0.99711\tvalidation_1-logloss:0.39721\tvalidation_1-auc:0.99747\n",
      "[112]\tvalidation_0-logloss:0.40096\tvalidation_0-auc:0.99707\tvalidation_1-logloss:0.39490\tvalidation_1-auc:0.99740\n",
      "[113]\tvalidation_0-logloss:0.40021\tvalidation_0-auc:0.99708\tvalidation_1-logloss:0.39426\tvalidation_1-auc:0.99740\n",
      "[114]\tvalidation_0-logloss:0.39787\tvalidation_0-auc:0.99709\tvalidation_1-logloss:0.39201\tvalidation_1-auc:0.99732\n",
      "[115]\tvalidation_0-logloss:0.39714\tvalidation_0-auc:0.99709\tvalidation_1-logloss:0.39137\tvalidation_1-auc:0.99732\n",
      "[116]\tvalidation_0-logloss:0.39477\tvalidation_0-auc:0.99711\tvalidation_1-logloss:0.38904\tvalidation_1-auc:0.99733\n",
      "[117]\tvalidation_0-logloss:0.39264\tvalidation_0-auc:0.99709\tvalidation_1-logloss:0.38681\tvalidation_1-auc:0.99730\n",
      "[118]\tvalidation_0-logloss:0.39038\tvalidation_0-auc:0.99710\tvalidation_1-logloss:0.38439\tvalidation_1-auc:0.99744\n",
      "[119]\tvalidation_0-logloss:0.38967\tvalidation_0-auc:0.99711\tvalidation_1-logloss:0.38378\tvalidation_1-auc:0.99743\n",
      "[120]\tvalidation_0-logloss:0.38738\tvalidation_0-auc:0.99712\tvalidation_1-logloss:0.38153\tvalidation_1-auc:0.99736\n",
      "[121]\tvalidation_0-logloss:0.38516\tvalidation_0-auc:0.99710\tvalidation_1-logloss:0.37940\tvalidation_1-auc:0.99732\n",
      "[122]\tvalidation_0-logloss:0.38311\tvalidation_0-auc:0.99710\tvalidation_1-logloss:0.37726\tvalidation_1-auc:0.99732\n",
      "[123]\tvalidation_0-logloss:0.38243\tvalidation_0-auc:0.99711\tvalidation_1-logloss:0.37668\tvalidation_1-auc:0.99732\n",
      "[124]\tvalidation_0-logloss:0.38192\tvalidation_0-auc:0.99711\tvalidation_1-logloss:0.37612\tvalidation_1-auc:0.99733\n",
      "[125]\tvalidation_0-logloss:0.37991\tvalidation_0-auc:0.99709\tvalidation_1-logloss:0.37403\tvalidation_1-auc:0.99729\n",
      "[126]\tvalidation_0-logloss:0.37776\tvalidation_0-auc:0.99709\tvalidation_1-logloss:0.37197\tvalidation_1-auc:0.99730\n",
      "[127]\tvalidation_0-logloss:0.37710\tvalidation_0-auc:0.99709\tvalidation_1-logloss:0.37140\tvalidation_1-auc:0.99730\n",
      "[128]\tvalidation_0-logloss:0.37660\tvalidation_0-auc:0.99710\tvalidation_1-logloss:0.37085\tvalidation_1-auc:0.99730\n",
      "[129]\tvalidation_0-logloss:0.37443\tvalidation_0-auc:0.99712\tvalidation_1-logloss:0.36872\tvalidation_1-auc:0.99732\n",
      "[130]\tvalidation_0-logloss:0.37233\tvalidation_0-auc:0.99712\tvalidation_1-logloss:0.36672\tvalidation_1-auc:0.99730\n",
      "[131]\tvalidation_0-logloss:0.37021\tvalidation_0-auc:0.99712\tvalidation_1-logloss:0.36464\tvalidation_1-auc:0.99721\n",
      "[132]\tvalidation_0-logloss:0.36812\tvalidation_0-auc:0.99711\tvalidation_1-logloss:0.36259\tvalidation_1-auc:0.99711\n",
      "[133]\tvalidation_0-logloss:0.36748\tvalidation_0-auc:0.99712\tvalidation_1-logloss:0.36204\tvalidation_1-auc:0.99711\n",
      "[134]\tvalidation_0-logloss:0.36700\tvalidation_0-auc:0.99713\tvalidation_1-logloss:0.36152\tvalidation_1-auc:0.99712\n",
      "[135]\tvalidation_0-logloss:0.36652\tvalidation_0-auc:0.99713\tvalidation_1-logloss:0.36101\tvalidation_1-auc:0.99712\n",
      "[136]\tvalidation_0-logloss:0.36590\tvalidation_0-auc:0.99714\tvalidation_1-logloss:0.36047\tvalidation_1-auc:0.99712\n",
      "[137]\tvalidation_0-logloss:0.36389\tvalidation_0-auc:0.99714\tvalidation_1-logloss:0.35855\tvalidation_1-auc:0.99714\n",
      "[138]\tvalidation_0-logloss:0.36186\tvalidation_0-auc:0.99714\tvalidation_1-logloss:0.35657\tvalidation_1-auc:0.99704\n",
      "[139]\tvalidation_0-logloss:0.36001\tvalidation_0-auc:0.99713\tvalidation_1-logloss:0.35463\tvalidation_1-auc:0.99704\n",
      "[140]\tvalidation_0-logloss:0.35806\tvalidation_0-auc:0.99713\tvalidation_1-logloss:0.35277\tvalidation_1-auc:0.99702\n",
      "[141]\tvalidation_0-logloss:0.35625\tvalidation_0-auc:0.99713\tvalidation_1-logloss:0.35088\tvalidation_1-auc:0.99701\n",
      "[142]\tvalidation_0-logloss:0.35580\tvalidation_0-auc:0.99713\tvalidation_1-logloss:0.35040\tvalidation_1-auc:0.99702\n",
      "[143]\tvalidation_0-logloss:0.35402\tvalidation_0-auc:0.99712\tvalidation_1-logloss:0.34854\tvalidation_1-auc:0.99699\n",
      "[144]\tvalidation_0-logloss:0.35213\tvalidation_0-auc:0.99712\tvalidation_1-logloss:0.34674\tvalidation_1-auc:0.99699\n",
      "[145]\tvalidation_0-logloss:0.35018\tvalidation_0-auc:0.99711\tvalidation_1-logloss:0.34464\tvalidation_1-auc:0.99714\n",
      "[146]\tvalidation_0-logloss:0.34845\tvalidation_0-auc:0.99709\tvalidation_1-logloss:0.34284\tvalidation_1-auc:0.99711\n",
      "[147]\tvalidation_0-logloss:0.34654\tvalidation_0-auc:0.99710\tvalidation_1-logloss:0.34078\tvalidation_1-auc:0.99720\n",
      "[148]\tvalidation_0-logloss:0.34472\tvalidation_0-auc:0.99710\tvalidation_1-logloss:0.33904\tvalidation_1-auc:0.99712\n",
      "[149]\tvalidation_0-logloss:0.34285\tvalidation_0-auc:0.99709\tvalidation_1-logloss:0.33703\tvalidation_1-auc:0.99724\n",
      "[150]\tvalidation_0-logloss:0.34243\tvalidation_0-auc:0.99709\tvalidation_1-logloss:0.33657\tvalidation_1-auc:0.99725\n",
      "[151]\tvalidation_0-logloss:0.34057\tvalidation_0-auc:0.99708\tvalidation_1-logloss:0.33476\tvalidation_1-auc:0.99717\n",
      "[152]\tvalidation_0-logloss:0.33880\tvalidation_0-auc:0.99709\tvalidation_1-logloss:0.33308\tvalidation_1-auc:0.99712\n",
      "[153]\tvalidation_0-logloss:0.33838\tvalidation_0-auc:0.99708\tvalidation_1-logloss:0.33263\tvalidation_1-auc:0.99715\n",
      "[154]\tvalidation_0-logloss:0.33675\tvalidation_0-auc:0.99708\tvalidation_1-logloss:0.33093\tvalidation_1-auc:0.99715\n",
      "[155]\tvalidation_0-logloss:0.33515\tvalidation_0-auc:0.99707\tvalidation_1-logloss:0.32926\tvalidation_1-auc:0.99714\n",
      "[156]\tvalidation_0-logloss:0.33474\tvalidation_0-auc:0.99708\tvalidation_1-logloss:0.32882\tvalidation_1-auc:0.99714\n",
      "[157]\tvalidation_0-logloss:0.33303\tvalidation_0-auc:0.99708\tvalidation_1-logloss:0.32719\tvalidation_1-auc:0.99712\n",
      "[158]\tvalidation_0-logloss:0.33248\tvalidation_0-auc:0.99709\tvalidation_1-logloss:0.32672\tvalidation_1-auc:0.99712\n",
      "[159]\tvalidation_0-logloss:0.33080\tvalidation_0-auc:0.99708\tvalidation_1-logloss:0.32513\tvalidation_1-auc:0.99711\n",
      "[160]\tvalidation_0-logloss:0.32914\tvalidation_0-auc:0.99708\tvalidation_1-logloss:0.32356\tvalidation_1-auc:0.99710\n",
      "[161]\tvalidation_0-logloss:0.32760\tvalidation_0-auc:0.99707\tvalidation_1-logloss:0.32195\tvalidation_1-auc:0.99708\n",
      "[162]\tvalidation_0-logloss:0.32585\tvalidation_0-auc:0.99706\tvalidation_1-logloss:0.32026\tvalidation_1-auc:0.99709\n",
      "[163]\tvalidation_0-logloss:0.32413\tvalidation_0-auc:0.99708\tvalidation_1-logloss:0.31859\tvalidation_1-auc:0.99698\n",
      "[164]\tvalidation_0-logloss:0.32360\tvalidation_0-auc:0.99709\tvalidation_1-logloss:0.31814\tvalidation_1-auc:0.99701\n",
      "[165]\tvalidation_0-logloss:0.32189\tvalidation_0-auc:0.99706\tvalidation_1-logloss:0.31629\tvalidation_1-auc:0.99712\n",
      "[166]\tvalidation_0-logloss:0.32021\tvalidation_0-auc:0.99708\tvalidation_1-logloss:0.31466\tvalidation_1-auc:0.99701\n",
      "[167]\tvalidation_0-logloss:0.31874\tvalidation_0-auc:0.99708\tvalidation_1-logloss:0.31313\tvalidation_1-auc:0.99701\n",
      "[168]\tvalidation_0-logloss:0.31836\tvalidation_0-auc:0.99708\tvalidation_1-logloss:0.31272\tvalidation_1-auc:0.99701\n",
      "[169]\tvalidation_0-logloss:0.31691\tvalidation_0-auc:0.99708\tvalidation_1-logloss:0.31121\tvalidation_1-auc:0.99701\n",
      "[170]\tvalidation_0-logloss:0.31527\tvalidation_0-auc:0.99704\tvalidation_1-logloss:0.30942\tvalidation_1-auc:0.99713\n",
      "[171]\tvalidation_0-logloss:0.31373\tvalidation_0-auc:0.99705\tvalidation_1-logloss:0.30797\tvalidation_1-auc:0.99712\n",
      "[172]\tvalidation_0-logloss:0.31221\tvalidation_0-auc:0.99705\tvalidation_1-logloss:0.30654\tvalidation_1-auc:0.99712\n",
      "[173]\tvalidation_0-logloss:0.31061\tvalidation_0-auc:0.99706\tvalidation_1-logloss:0.30499\tvalidation_1-auc:0.99699\n",
      "[174]\tvalidation_0-logloss:0.30922\tvalidation_0-auc:0.99706\tvalidation_1-logloss:0.30354\tvalidation_1-auc:0.99699\n",
      "[175]\tvalidation_0-logloss:0.30786\tvalidation_0-auc:0.99706\tvalidation_1-logloss:0.30212\tvalidation_1-auc:0.99699\n",
      "[176]\tvalidation_0-logloss:0.30629\tvalidation_0-auc:0.99702\tvalidation_1-logloss:0.30041\tvalidation_1-auc:0.99710\n",
      "[177]\tvalidation_0-logloss:0.30474\tvalidation_0-auc:0.99703\tvalidation_1-logloss:0.29873\tvalidation_1-auc:0.99710\n",
      "[178]\tvalidation_0-logloss:0.30320\tvalidation_0-auc:0.99701\tvalidation_1-logloss:0.29724\tvalidation_1-auc:0.99711\n",
      "[179]\tvalidation_0-logloss:0.30169\tvalidation_0-auc:0.99702\tvalidation_1-logloss:0.29578\tvalidation_1-auc:0.99698\n",
      "[180]\tvalidation_0-logloss:0.30019\tvalidation_0-auc:0.99698\tvalidation_1-logloss:0.29414\tvalidation_1-auc:0.99709\n",
      "[181]\tvalidation_0-logloss:0.29871\tvalidation_0-auc:0.99698\tvalidation_1-logloss:0.29253\tvalidation_1-auc:0.99714\n",
      "[182]\tvalidation_0-logloss:0.29837\tvalidation_0-auc:0.99698\tvalidation_1-logloss:0.29215\tvalidation_1-auc:0.99714\n",
      "[183]\tvalidation_0-logloss:0.29690\tvalidation_0-auc:0.99696\tvalidation_1-logloss:0.29074\tvalidation_1-auc:0.99710\n",
      "[184]\tvalidation_0-logloss:0.29657\tvalidation_0-auc:0.99696\tvalidation_1-logloss:0.29036\tvalidation_1-auc:0.99711\n",
      "[185]\tvalidation_0-logloss:0.29513\tvalidation_0-auc:0.99698\tvalidation_1-logloss:0.28897\tvalidation_1-auc:0.99698\n",
      "[186]\tvalidation_0-logloss:0.29479\tvalidation_0-auc:0.99699\tvalidation_1-logloss:0.28861\tvalidation_1-auc:0.99698\n",
      "[187]\tvalidation_0-logloss:0.29341\tvalidation_0-auc:0.99699\tvalidation_1-logloss:0.28730\tvalidation_1-auc:0.99695\n",
      "[188]\tvalidation_0-logloss:0.29293\tvalidation_0-auc:0.99700\tvalidation_1-logloss:0.28691\tvalidation_1-auc:0.99696\n",
      "[189]\tvalidation_0-logloss:0.29246\tvalidation_0-auc:0.99701\tvalidation_1-logloss:0.28653\tvalidation_1-auc:0.99697\n",
      "[190]\tvalidation_0-logloss:0.29110\tvalidation_0-auc:0.99702\tvalidation_1-logloss:0.28525\tvalidation_1-auc:0.99700\n",
      "[191]\tvalidation_0-logloss:0.28971\tvalidation_0-auc:0.99700\tvalidation_1-logloss:0.28391\tvalidation_1-auc:0.99692\n",
      "[192]\tvalidation_0-logloss:0.28831\tvalidation_0-auc:0.99699\tvalidation_1-logloss:0.28237\tvalidation_1-auc:0.99696\n",
      "[193]\tvalidation_0-logloss:0.28799\tvalidation_0-auc:0.99700\tvalidation_1-logloss:0.28202\tvalidation_1-auc:0.99696\n",
      "[194]\tvalidation_0-logloss:0.28767\tvalidation_0-auc:0.99700\tvalidation_1-logloss:0.28168\tvalidation_1-auc:0.99697\n",
      "[195]\tvalidation_0-logloss:0.28736\tvalidation_0-auc:0.99701\tvalidation_1-logloss:0.28133\tvalidation_1-auc:0.99698\n",
      "[196]\tvalidation_0-logloss:0.28604\tvalidation_0-auc:0.99702\tvalidation_1-logloss:0.28010\tvalidation_1-auc:0.99700\n",
      "[197]\tvalidation_0-logloss:0.28475\tvalidation_0-auc:0.99702\tvalidation_1-logloss:0.27888\tvalidation_1-auc:0.99700\n",
      "[198]\tvalidation_0-logloss:0.28347\tvalidation_0-auc:0.99703\tvalidation_1-logloss:0.27769\tvalidation_1-auc:0.99699\n",
      "[199]\tvalidation_0-logloss:0.28317\tvalidation_0-auc:0.99703\tvalidation_1-logloss:0.27736\tvalidation_1-auc:0.99701\n"
     ]
    }
   ],
   "source": [
    "eval_set = [(x_train, y_train), (x_test, y_test)]\n",
    "eval_metrics=['logloss', 'auc']\n",
    "XGB_tuned_classifier.fit(x_train, y_train, eval_metric=eval_metrics, eval_set=eval_set, verbose=True)\n",
    "results = XGB_classifier.evals_result()"
   ]
  },
  {
   "cell_type": "code",
   "execution_count": 86,
   "metadata": {},
   "outputs": [
    {
     "data": {
      "image/png": "[encoded data removed]",
      "text/plain": [
       "<Figure size 792x360 with 2 Axes>"
      ]
     },
     "metadata": {
      "needs_background": "light"
     },
     "output_type": "display_data"
    }
   ],
   "source": [
    "plt.figure(figsize=(11,5))\n",
    "plt.subplot(1,2,1)\n",
    "plt.title('Logloss plot')\n",
    "plt.plot(results['validation_0']['logloss'], label='train')\n",
    "plt.plot(results['validation_1']['logloss'], label='test')\n",
    "\n",
    "plt.subplot(1,2,2)\n",
    "plt.title('Area under curve plot')\n",
    "plt.plot(results['validation_0']['auc'], label='train')\n",
    "plt.plot(results['validation_1']['auc'], label='test')\n",
    "\n",
    "plt.legend()\n",
    "plt.show()"
   ]
  },
  {
   "cell_type": "code",
   "execution_count": 102,
   "metadata": {},
   "outputs": [
    {
     "data": {
      "image/png": "[encoded data removed]",
      "text/plain": [
       "<Figure size 936x360 with 4 Axes>"
      ]
     },
     "metadata": {
      "needs_background": "light"
     },
     "output_type": "display_data"
    }
   ],
   "source": [
    "XGB_tuned_CM= confusion_matrix(XGB_tuned_predictions, y_test)\n",
    "XGB_untuned_CM = confusion_matrix(XGB_predictions, y_test)\n",
    "\n",
    "plt.figure(figsize=(13,5))\n",
    "plt.subplot(1,2,1)\n",
    "sns.heatmap(XGB_tuned_CM, cmap='Greens', annot=True, fmt='', xticklabels=['Female', 'Male'], yticklabels=['Female', 'Male']) #fmt specifies format i.e 2dp percentage, whole number. float\n",
    "plt.title(\"XGB_tuned Heat Map of Actual gender/Predicted\")\n",
    "\n",
    "plt.subplot(1,2,2)\n",
    "sns.heatmap(XGB_untuned_CM, cmap='Blues', annot=True, fmt='', xticklabels=['Female', 'Male'], yticklabels=['Female', 'Male']) #fmt specifies format i.e 2dp percentage, whole number. float\n",
    "plt.title(\"XGB_untuned_CM Heat Map of Actual gender/Predicted\")\n",
    "\n",
    "plt.show()"
   ]
  },
  {
   "cell_type": "code",
   "execution_count": null,
   "metadata": {},
   "outputs": [],
   "source": []
  }
 ],
 "metadata": {
  "interpreter": {
   "hash": "698943654ed90e0d601c73b15b591a66035d577c3c6badc918040a9e516c87b7"
  },
  "kernelspec": {
   "display_name": "Python 3.10.3 64-bit",
   "language": "python",
   "name": "python3"
  },
  "language_info": {
   "codemirror_mode": {
    "name": "ipython",
    "version": 3
   },
   "file_extension": ".py",
   "mimetype": "text/x-python",
   "name": "python",
   "nbconvert_exporter": "python",
   "pygments_lexer": "ipython3",
   "version": "3.10.3"
  },
  "orig_nbformat": 4
 },
 "nbformat": 4,
 "nbformat_minor": 2
}
