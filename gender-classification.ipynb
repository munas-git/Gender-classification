{
 "cells": [
  {
   "cell_type": "markdown",
   "metadata": {},
   "source": [
    "## Task/end-Goal\n",
    "* Be able to predict an indivuduals gender (Binary; Male or Female) correctly based on certain characteristics"
   ]
  },
  {
   "cell_type": "code",
   "execution_count": 2,
   "metadata": {},
   "outputs": [],
   "source": [
    "# Importing important Libraries\n",
    "\n",
    "import pandas as pd\n",
    "import matplotlib.pyplot as plt\n",
    "from sklearn.model_selection import train_test_split\n",
    "from sklearn.naive_bayes import GaussianNB\n",
    "from sklearn.neighbors import KNeighborsClassifier as knn\n",
    "from xgboost import XGBClassifier\n",
    "from sklearn import svm\n",
    "from sklearn.metrics import confusion_matrix\n",
    "import seaborn as sns\n",
    "from sklearn.metrics import r2_score\n",
    "from sklearn.model_selection import GridSearchCV\n",
    "from sklearn.model_selection import RandomizedSearchCV\n",
    "\n",
    "import warnings\n",
    "warnings.filterwarnings('ignore')"
   ]
  },
  {
   "cell_type": "code",
   "execution_count": 3,
   "metadata": {},
   "outputs": [],
   "source": [
    "data = pd.read_csv('gender_classification_v7.csv')"
   ]
  },
  {
   "cell_type": "code",
   "execution_count": 4,
   "metadata": {},
   "outputs": [
    {
     "data": {
      "text/html": [
       "<div>\n",
       "<style scoped>\n",
       "    .dataframe tbody tr th:only-of-type {\n",
       "        vertical-align: middle;\n",
       "    }\n",
       "\n",
       "    .dataframe tbody tr th {\n",
       "        vertical-align: top;\n",
       "    }\n",
       "\n",
       "    .dataframe thead th {\n",
       "        text-align: right;\n",
       "    }\n",
       "</style>\n",
       "<table border=\"1\" class=\"dataframe\">\n",
       "  <thead>\n",
       "    <tr style=\"text-align: right;\">\n",
       "      <th></th>\n",
       "      <th>long_hair</th>\n",
       "      <th>forehead_width_cm</th>\n",
       "      <th>forehead_height_cm</th>\n",
       "      <th>nose_wide</th>\n",
       "      <th>nose_long</th>\n",
       "      <th>lips_thin</th>\n",
       "      <th>distance_nose_to_lip_long</th>\n",
       "      <th>gender</th>\n",
       "    </tr>\n",
       "  </thead>\n",
       "  <tbody>\n",
       "    <tr>\n",
       "      <th>0</th>\n",
       "      <td>1</td>\n",
       "      <td>11.8</td>\n",
       "      <td>6.1</td>\n",
       "      <td>1</td>\n",
       "      <td>0</td>\n",
       "      <td>1</td>\n",
       "      <td>1</td>\n",
       "      <td>Male</td>\n",
       "    </tr>\n",
       "    <tr>\n",
       "      <th>1</th>\n",
       "      <td>0</td>\n",
       "      <td>14.0</td>\n",
       "      <td>5.4</td>\n",
       "      <td>0</td>\n",
       "      <td>0</td>\n",
       "      <td>1</td>\n",
       "      <td>0</td>\n",
       "      <td>Female</td>\n",
       "    </tr>\n",
       "    <tr>\n",
       "      <th>2</th>\n",
       "      <td>0</td>\n",
       "      <td>11.8</td>\n",
       "      <td>6.3</td>\n",
       "      <td>1</td>\n",
       "      <td>1</td>\n",
       "      <td>1</td>\n",
       "      <td>1</td>\n",
       "      <td>Male</td>\n",
       "    </tr>\n",
       "    <tr>\n",
       "      <th>3</th>\n",
       "      <td>0</td>\n",
       "      <td>14.4</td>\n",
       "      <td>6.1</td>\n",
       "      <td>0</td>\n",
       "      <td>1</td>\n",
       "      <td>1</td>\n",
       "      <td>1</td>\n",
       "      <td>Male</td>\n",
       "    </tr>\n",
       "    <tr>\n",
       "      <th>4</th>\n",
       "      <td>1</td>\n",
       "      <td>13.5</td>\n",
       "      <td>5.9</td>\n",
       "      <td>0</td>\n",
       "      <td>0</td>\n",
       "      <td>0</td>\n",
       "      <td>0</td>\n",
       "      <td>Female</td>\n",
       "    </tr>\n",
       "  </tbody>\n",
       "</table>\n",
       "</div>"
      ],
      "text/plain": [
       "   long_hair  forehead_width_cm  forehead_height_cm  nose_wide  nose_long  \\\n",
       "0          1               11.8                 6.1          1          0   \n",
       "1          0               14.0                 5.4          0          0   \n",
       "2          0               11.8                 6.3          1          1   \n",
       "3          0               14.4                 6.1          0          1   \n",
       "4          1               13.5                 5.9          0          0   \n",
       "\n",
       "   lips_thin  distance_nose_to_lip_long  gender  \n",
       "0          1                          1    Male  \n",
       "1          1                          0  Female  \n",
       "2          1                          1    Male  \n",
       "3          1                          1    Male  \n",
       "4          0                          0  Female  "
      ]
     },
     "execution_count": 4,
     "metadata": {},
     "output_type": "execute_result"
    }
   ],
   "source": [
    "data.head()"
   ]
  },
  {
   "cell_type": "markdown",
   "metadata": {},
   "source": [
    "## EDA - Exploratory Data Analysis"
   ]
  },
  {
   "cell_type": "code",
   "execution_count": 5,
   "metadata": {},
   "outputs": [
    {
     "name": "stdout",
     "output_type": "stream",
     "text": [
      "<class 'pandas.core.frame.DataFrame'>\n",
      "RangeIndex: 5001 entries, 0 to 5000\n",
      "Data columns (total 8 columns):\n",
      " #   Column                     Non-Null Count  Dtype  \n",
      "---  ------                     --------------  -----  \n",
      " 0   long_hair                  5001 non-null   int64  \n",
      " 1   forehead_width_cm          5001 non-null   float64\n",
      " 2   forehead_height_cm         5001 non-null   float64\n",
      " 3   nose_wide                  5001 non-null   int64  \n",
      " 4   nose_long                  5001 non-null   int64  \n",
      " 5   lips_thin                  5001 non-null   int64  \n",
      " 6   distance_nose_to_lip_long  5001 non-null   int64  \n",
      " 7   gender                     5001 non-null   object \n",
      "dtypes: float64(2), int64(5), object(1)\n",
      "memory usage: 312.7+ KB\n"
     ]
    }
   ],
   "source": [
    "data.info()"
   ]
  },
  {
   "cell_type": "code",
   "execution_count": 6,
   "metadata": {},
   "outputs": [
    {
     "data": {
      "text/plain": [
       "long_hair                    0\n",
       "forehead_width_cm            0\n",
       "forehead_height_cm           0\n",
       "nose_wide                    0\n",
       "nose_long                    0\n",
       "lips_thin                    0\n",
       "distance_nose_to_lip_long    0\n",
       "gender                       0\n",
       "dtype: int64"
      ]
     },
     "execution_count": 6,
     "metadata": {},
     "output_type": "execute_result"
    }
   ],
   "source": [
    "data.isnull().sum()"
   ]
  },
  {
   "cell_type": "code",
   "execution_count": 7,
   "metadata": {},
   "outputs": [
    {
     "data": {
      "text/html": [
       "<div>\n",
       "<style scoped>\n",
       "    .dataframe tbody tr th:only-of-type {\n",
       "        vertical-align: middle;\n",
       "    }\n",
       "\n",
       "    .dataframe tbody tr th {\n",
       "        vertical-align: top;\n",
       "    }\n",
       "\n",
       "    .dataframe thead th {\n",
       "        text-align: right;\n",
       "    }\n",
       "</style>\n",
       "<table border=\"1\" class=\"dataframe\">\n",
       "  <thead>\n",
       "    <tr style=\"text-align: right;\">\n",
       "      <th></th>\n",
       "      <th>long_hair</th>\n",
       "      <th>forehead_width_cm</th>\n",
       "      <th>forehead_height_cm</th>\n",
       "      <th>nose_wide</th>\n",
       "      <th>nose_long</th>\n",
       "      <th>lips_thin</th>\n",
       "      <th>distance_nose_to_lip_long</th>\n",
       "    </tr>\n",
       "  </thead>\n",
       "  <tbody>\n",
       "    <tr>\n",
       "      <th>count</th>\n",
       "      <td>5001.000000</td>\n",
       "      <td>5001.000000</td>\n",
       "      <td>5001.000000</td>\n",
       "      <td>5001.000000</td>\n",
       "      <td>5001.000000</td>\n",
       "      <td>5001.000000</td>\n",
       "      <td>5001.000000</td>\n",
       "    </tr>\n",
       "    <tr>\n",
       "      <th>mean</th>\n",
       "      <td>0.869626</td>\n",
       "      <td>13.181484</td>\n",
       "      <td>5.946311</td>\n",
       "      <td>0.493901</td>\n",
       "      <td>0.507898</td>\n",
       "      <td>0.493101</td>\n",
       "      <td>0.498900</td>\n",
       "    </tr>\n",
       "    <tr>\n",
       "      <th>std</th>\n",
       "      <td>0.336748</td>\n",
       "      <td>1.107128</td>\n",
       "      <td>0.541268</td>\n",
       "      <td>0.500013</td>\n",
       "      <td>0.499988</td>\n",
       "      <td>0.500002</td>\n",
       "      <td>0.500049</td>\n",
       "    </tr>\n",
       "    <tr>\n",
       "      <th>min</th>\n",
       "      <td>0.000000</td>\n",
       "      <td>11.400000</td>\n",
       "      <td>5.100000</td>\n",
       "      <td>0.000000</td>\n",
       "      <td>0.000000</td>\n",
       "      <td>0.000000</td>\n",
       "      <td>0.000000</td>\n",
       "    </tr>\n",
       "    <tr>\n",
       "      <th>25%</th>\n",
       "      <td>1.000000</td>\n",
       "      <td>12.200000</td>\n",
       "      <td>5.500000</td>\n",
       "      <td>0.000000</td>\n",
       "      <td>0.000000</td>\n",
       "      <td>0.000000</td>\n",
       "      <td>0.000000</td>\n",
       "    </tr>\n",
       "    <tr>\n",
       "      <th>50%</th>\n",
       "      <td>1.000000</td>\n",
       "      <td>13.100000</td>\n",
       "      <td>5.900000</td>\n",
       "      <td>0.000000</td>\n",
       "      <td>1.000000</td>\n",
       "      <td>0.000000</td>\n",
       "      <td>0.000000</td>\n",
       "    </tr>\n",
       "    <tr>\n",
       "      <th>75%</th>\n",
       "      <td>1.000000</td>\n",
       "      <td>14.000000</td>\n",
       "      <td>6.400000</td>\n",
       "      <td>1.000000</td>\n",
       "      <td>1.000000</td>\n",
       "      <td>1.000000</td>\n",
       "      <td>1.000000</td>\n",
       "    </tr>\n",
       "    <tr>\n",
       "      <th>max</th>\n",
       "      <td>1.000000</td>\n",
       "      <td>15.500000</td>\n",
       "      <td>7.100000</td>\n",
       "      <td>1.000000</td>\n",
       "      <td>1.000000</td>\n",
       "      <td>1.000000</td>\n",
       "      <td>1.000000</td>\n",
       "    </tr>\n",
       "  </tbody>\n",
       "</table>\n",
       "</div>"
      ],
      "text/plain": [
       "         long_hair  forehead_width_cm  forehead_height_cm    nose_wide  \\\n",
       "count  5001.000000        5001.000000         5001.000000  5001.000000   \n",
       "mean      0.869626          13.181484            5.946311     0.493901   \n",
       "std       0.336748           1.107128            0.541268     0.500013   \n",
       "min       0.000000          11.400000            5.100000     0.000000   \n",
       "25%       1.000000          12.200000            5.500000     0.000000   \n",
       "50%       1.000000          13.100000            5.900000     0.000000   \n",
       "75%       1.000000          14.000000            6.400000     1.000000   \n",
       "max       1.000000          15.500000            7.100000     1.000000   \n",
       "\n",
       "         nose_long    lips_thin  distance_nose_to_lip_long  \n",
       "count  5001.000000  5001.000000                5001.000000  \n",
       "mean      0.507898     0.493101                   0.498900  \n",
       "std       0.499988     0.500002                   0.500049  \n",
       "min       0.000000     0.000000                   0.000000  \n",
       "25%       0.000000     0.000000                   0.000000  \n",
       "50%       1.000000     0.000000                   0.000000  \n",
       "75%       1.000000     1.000000                   1.000000  \n",
       "max       1.000000     1.000000                   1.000000  "
      ]
     },
     "execution_count": 7,
     "metadata": {},
     "output_type": "execute_result"
    }
   ],
   "source": [
    "data.describe()"
   ]
  },
  {
   "cell_type": "code",
   "execution_count": 8,
   "metadata": {},
   "outputs": [],
   "source": [
    "# Grouping the data frame into male and female for comparison of attributes\n",
    "genders = data.groupby('gender')"
   ]
  },
  {
   "cell_type": "code",
   "execution_count": 9,
   "metadata": {},
   "outputs": [
    {
     "data": {
      "image/png": "[encoded data removed]",
      "text/plain": [
       "<Figure size 432x288 with 1 Axes>"
      ]
     },
     "metadata": {
      "needs_background": "light"
     },
     "output_type": "display_data"
    }
   ],
   "source": [
    "# Breaking data into male and female\n",
    "male = genders.get_group('Male')\n",
    "female = genders.get_group('Female')\n",
    "\n",
    "plt.scatter(male.forehead_width_cm, male.forehead_height_cm, c='blue', label='male')\n",
    "plt.scatter(female.forehead_width_cm, female.forehead_height_cm, c='orange', label='female')\n",
    "plt.legend(['male', 'female'], loc = 'lower left')\n",
    "plt.title('Male & Female Forehead width/height plot')\n",
    "plt.show()"
   ]
  },
  {
   "cell_type": "markdown",
   "metadata": {},
   "source": [
    "Forehead width and height are important factors to consider as the plot above suggests; Females tend to have smaller foreheads than male."
   ]
  },
  {
   "cell_type": "code",
   "execution_count": 10,
   "metadata": {},
   "outputs": [
    {
     "name": "stdout",
     "output_type": "stream",
     "text": [
      "number of males  2500\n",
      "number of females  2501\n"
     ]
    }
   ],
   "source": [
    "print('number of males ',len(male))\n",
    "print('number of females ',len(female))"
   ]
  },
  {
   "cell_type": "code",
   "execution_count": 11,
   "metadata": {},
   "outputs": [
    {
     "data": {
      "text/plain": [
       "gender  nose_wide\n",
       "Female  0            2214\n",
       "        1             287\n",
       "Male    1            2183\n",
       "        0             317\n",
       "Name: nose_wide, dtype: int64"
      ]
     },
     "execution_count": 11,
     "metadata": {},
     "output_type": "execute_result"
    }
   ],
   "source": [
    "# Counting number of males and females with wide and narrow nose.\n",
    "# 0 stands for no/false, 1 stands for true/yes.\n",
    "nose_wide_count = genders['nose_wide'].value_counts()\n",
    "nose_wide_count"
   ]
  },
  {
   "cell_type": "code",
   "execution_count": 12,
   "metadata": {},
   "outputs": [
    {
     "data": {
      "text/html": [
       "<div>\n",
       "<style scoped>\n",
       "    .dataframe tbody tr th:only-of-type {\n",
       "        vertical-align: middle;\n",
       "    }\n",
       "\n",
       "    .dataframe tbody tr th {\n",
       "        vertical-align: top;\n",
       "    }\n",
       "\n",
       "    .dataframe thead th {\n",
       "        text-align: right;\n",
       "    }\n",
       "</style>\n",
       "<table border=\"1\" class=\"dataframe\">\n",
       "  <thead>\n",
       "    <tr style=\"text-align: right;\">\n",
       "      <th>nose_wide</th>\n",
       "      <th>0</th>\n",
       "      <th>1</th>\n",
       "    </tr>\n",
       "    <tr>\n",
       "      <th>gender</th>\n",
       "      <th></th>\n",
       "      <th></th>\n",
       "    </tr>\n",
       "  </thead>\n",
       "  <tbody>\n",
       "    <tr>\n",
       "      <th>Female</th>\n",
       "      <td>0.885246</td>\n",
       "      <td>0.114754</td>\n",
       "    </tr>\n",
       "    <tr>\n",
       "      <th>Male</th>\n",
       "      <td>0.126800</td>\n",
       "      <td>0.873200</td>\n",
       "    </tr>\n",
       "  </tbody>\n",
       "</table>\n",
       "</div>"
      ],
      "text/plain": [
       "nose_wide         0         1\n",
       "gender                       \n",
       "Female     0.885246  0.114754\n",
       "Male       0.126800  0.873200"
      ]
     },
     "execution_count": 12,
     "metadata": {},
     "output_type": "execute_result"
    }
   ],
   "source": [
    "# Dataframe showing percentage widness/thinness of nose by gender\n",
    "# using normalize='index' normalizes by dividing all values by the sum of 'index' values.... Calculates percentage\n",
    "pd.crosstab(data['gender'], data['nose_wide'], normalize='index')"
   ]
  },
  {
   "cell_type": "markdown",
   "metadata": {},
   "source": [
    "* From the table above, the data suggests that males generally have wider nose than females.\n",
    "Out of 5001 samples comprising of 2500 males and 2501 females\n",
    "    - 11% of females have wide nose, 88% have narrow nostrils\n",
    "    - 87% of males have wide nostrils, 12% have narrow nostrils\n",
    "* Widness of nose is a key factor to consider as there seems to be a polarity in widness of nose for both genders"
   ]
  },
  {
   "cell_type": "code",
   "execution_count": 13,
   "metadata": {},
   "outputs": [
    {
     "data": {
      "text/plain": [
       "gender  long_hair\n",
       "Female  1            2184\n",
       "        0             317\n",
       "Male    1            2165\n",
       "        0             335\n",
       "Name: long_hair, dtype: int64"
      ]
     },
     "execution_count": 13,
     "metadata": {},
     "output_type": "execute_result"
    }
   ],
   "source": [
    "# Counting number of males and females with long hair\n",
    "long_hair_count = genders['long_hair'].value_counts()\n",
    "long_hair_count"
   ]
  },
  {
   "cell_type": "code",
   "execution_count": 14,
   "metadata": {},
   "outputs": [
    {
     "data": {
      "text/html": [
       "<div>\n",
       "<style scoped>\n",
       "    .dataframe tbody tr th:only-of-type {\n",
       "        vertical-align: middle;\n",
       "    }\n",
       "\n",
       "    .dataframe tbody tr th {\n",
       "        vertical-align: top;\n",
       "    }\n",
       "\n",
       "    .dataframe thead th {\n",
       "        text-align: right;\n",
       "    }\n",
       "</style>\n",
       "<table border=\"1\" class=\"dataframe\">\n",
       "  <thead>\n",
       "    <tr style=\"text-align: right;\">\n",
       "      <th>long_hair</th>\n",
       "      <th>0</th>\n",
       "      <th>1</th>\n",
       "    </tr>\n",
       "    <tr>\n",
       "      <th>gender</th>\n",
       "      <th></th>\n",
       "      <th></th>\n",
       "    </tr>\n",
       "  </thead>\n",
       "  <tbody>\n",
       "    <tr>\n",
       "      <th>Female</th>\n",
       "      <td>0.126749</td>\n",
       "      <td>0.873251</td>\n",
       "    </tr>\n",
       "    <tr>\n",
       "      <th>Male</th>\n",
       "      <td>0.134000</td>\n",
       "      <td>0.866000</td>\n",
       "    </tr>\n",
       "  </tbody>\n",
       "</table>\n",
       "</div>"
      ],
      "text/plain": [
       "long_hair         0         1\n",
       "gender                       \n",
       "Female     0.126749  0.873251\n",
       "Male       0.134000  0.866000"
      ]
     },
     "execution_count": 14,
     "metadata": {},
     "output_type": "execute_result"
    }
   ],
   "source": [
    "pd.crosstab(data['gender'], data['long_hair'], normalize='index')"
   ]
  },
  {
   "cell_type": "markdown",
   "metadata": {},
   "source": [
    "* Hair length is not an important feature to consider as\n",
    "    - 12% of females have short hair, 87% have long hair\n",
    "    - 13% of males have short hair, 12% have long hair\n",
    "* Both genders seem to have the same type of hair length at almost equal percent so hair length is not a determining factor"
   ]
  },
  {
   "cell_type": "code",
   "execution_count": 15,
   "metadata": {},
   "outputs": [
    {
     "data": {
      "text/plain": [
       "gender  nose_long\n",
       "Female  0            2161\n",
       "        1             340\n",
       "Male    1            2200\n",
       "        0             300\n",
       "Name: nose_long, dtype: int64"
      ]
     },
     "execution_count": 15,
     "metadata": {},
     "output_type": "execute_result"
    }
   ],
   "source": [
    "# Counting number of males and females with long nose\n",
    "nose_long_count = genders['nose_long'].value_counts()\n",
    "nose_long_count"
   ]
  },
  {
   "cell_type": "code",
   "execution_count": 16,
   "metadata": {},
   "outputs": [
    {
     "data": {
      "text/html": [
       "<div>\n",
       "<style scoped>\n",
       "    .dataframe tbody tr th:only-of-type {\n",
       "        vertical-align: middle;\n",
       "    }\n",
       "\n",
       "    .dataframe tbody tr th {\n",
       "        vertical-align: top;\n",
       "    }\n",
       "\n",
       "    .dataframe thead th {\n",
       "        text-align: right;\n",
       "    }\n",
       "</style>\n",
       "<table border=\"1\" class=\"dataframe\">\n",
       "  <thead>\n",
       "    <tr style=\"text-align: right;\">\n",
       "      <th>nose_long</th>\n",
       "      <th>0</th>\n",
       "      <th>1</th>\n",
       "    </tr>\n",
       "    <tr>\n",
       "      <th>gender</th>\n",
       "      <th></th>\n",
       "      <th></th>\n",
       "    </tr>\n",
       "  </thead>\n",
       "  <tbody>\n",
       "    <tr>\n",
       "      <th>Female</th>\n",
       "      <td>0.864054</td>\n",
       "      <td>0.135946</td>\n",
       "    </tr>\n",
       "    <tr>\n",
       "      <th>Male</th>\n",
       "      <td>0.120000</td>\n",
       "      <td>0.880000</td>\n",
       "    </tr>\n",
       "  </tbody>\n",
       "</table>\n",
       "</div>"
      ],
      "text/plain": [
       "nose_long         0         1\n",
       "gender                       \n",
       "Female     0.864054  0.135946\n",
       "Male       0.120000  0.880000"
      ]
     },
     "execution_count": 16,
     "metadata": {},
     "output_type": "execute_result"
    }
   ],
   "source": [
    "pd.crosstab(data['gender'], data['nose_long'], normalize='index')"
   ]
  },
  {
   "cell_type": "markdown",
   "metadata": {},
   "source": [
    "* Length of nose (long/short) is an important feature to consider:\n",
    "    - 13% of females have long nose, 86% have short nose\n",
    "    - 88% of males have long nose, 12% have short nose\n",
    "* There is a polarity in length of nose for both genders. The dataset suggests that males generally have longer nose than females"
   ]
  },
  {
   "cell_type": "code",
   "execution_count": 17,
   "metadata": {},
   "outputs": [
    {
     "data": {
      "text/plain": [
       "gender  lips_thin\n",
       "Female  0            2197\n",
       "        1             304\n",
       "Male    1            2162\n",
       "        0             338\n",
       "Name: lips_thin, dtype: int64"
      ]
     },
     "execution_count": 17,
     "metadata": {},
     "output_type": "execute_result"
    }
   ],
   "source": [
    "# Counting number of males and females with thin lips\n",
    "lips_thin_count = genders['lips_thin'].value_counts()\n",
    "lips_thin_count"
   ]
  },
  {
   "cell_type": "code",
   "execution_count": 18,
   "metadata": {},
   "outputs": [
    {
     "data": {
      "text/html": [
       "<div>\n",
       "<style scoped>\n",
       "    .dataframe tbody tr th:only-of-type {\n",
       "        vertical-align: middle;\n",
       "    }\n",
       "\n",
       "    .dataframe tbody tr th {\n",
       "        vertical-align: top;\n",
       "    }\n",
       "\n",
       "    .dataframe thead th {\n",
       "        text-align: right;\n",
       "    }\n",
       "</style>\n",
       "<table border=\"1\" class=\"dataframe\">\n",
       "  <thead>\n",
       "    <tr style=\"text-align: right;\">\n",
       "      <th>lips_thin</th>\n",
       "      <th>0</th>\n",
       "      <th>1</th>\n",
       "    </tr>\n",
       "    <tr>\n",
       "      <th>gender</th>\n",
       "      <th></th>\n",
       "      <th></th>\n",
       "    </tr>\n",
       "  </thead>\n",
       "  <tbody>\n",
       "    <tr>\n",
       "      <th>Female</th>\n",
       "      <td>0.878449</td>\n",
       "      <td>0.121551</td>\n",
       "    </tr>\n",
       "    <tr>\n",
       "      <th>Male</th>\n",
       "      <td>0.135200</td>\n",
       "      <td>0.864800</td>\n",
       "    </tr>\n",
       "  </tbody>\n",
       "</table>\n",
       "</div>"
      ],
      "text/plain": [
       "lips_thin         0         1\n",
       "gender                       \n",
       "Female     0.878449  0.121551\n",
       "Male       0.135200  0.864800"
      ]
     },
     "execution_count": 18,
     "metadata": {},
     "output_type": "execute_result"
    }
   ],
   "source": [
    "pd.crosstab(data['gender'], data['lips_thin'], normalize='index')"
   ]
  },
  {
   "cell_type": "markdown",
   "metadata": {},
   "source": [
    "* Thinness of lips is an important feature to consider:\n",
    "    - 12% of females have thin lips, 88% have thick lips\n",
    "    - 86% of males have thin lips, 12% have thick\n",
    "* There is a polarity in length of nose for both genders. The dataset suggests that males generally have thiner lips than females."
   ]
  },
  {
   "cell_type": "code",
   "execution_count": 19,
   "metadata": {},
   "outputs": [
    {
     "data": {
      "text/plain": [
       "gender  distance_nose_to_lip_long\n",
       "Female  0                            2197\n",
       "        1                             304\n",
       "Male    1                            2191\n",
       "        0                             309\n",
       "Name: distance_nose_to_lip_long, dtype: int64"
      ]
     },
     "execution_count": 19,
     "metadata": {},
     "output_type": "execute_result"
    }
   ],
   "source": [
    "distance_nose_to_lip_long_count = genders['distance_nose_to_lip_long'].value_counts()\n",
    "distance_nose_to_lip_long_count"
   ]
  },
  {
   "cell_type": "code",
   "execution_count": 20,
   "metadata": {},
   "outputs": [
    {
     "data": {
      "text/html": [
       "<div>\n",
       "<style scoped>\n",
       "    .dataframe tbody tr th:only-of-type {\n",
       "        vertical-align: middle;\n",
       "    }\n",
       "\n",
       "    .dataframe tbody tr th {\n",
       "        vertical-align: top;\n",
       "    }\n",
       "\n",
       "    .dataframe thead th {\n",
       "        text-align: right;\n",
       "    }\n",
       "</style>\n",
       "<table border=\"1\" class=\"dataframe\">\n",
       "  <thead>\n",
       "    <tr style=\"text-align: right;\">\n",
       "      <th>distance_nose_to_lip_long</th>\n",
       "      <th>0</th>\n",
       "      <th>1</th>\n",
       "    </tr>\n",
       "    <tr>\n",
       "      <th>gender</th>\n",
       "      <th></th>\n",
       "      <th></th>\n",
       "    </tr>\n",
       "  </thead>\n",
       "  <tbody>\n",
       "    <tr>\n",
       "      <th>Female</th>\n",
       "      <td>0.878449</td>\n",
       "      <td>0.121551</td>\n",
       "    </tr>\n",
       "    <tr>\n",
       "      <th>Male</th>\n",
       "      <td>0.123600</td>\n",
       "      <td>0.876400</td>\n",
       "    </tr>\n",
       "  </tbody>\n",
       "</table>\n",
       "</div>"
      ],
      "text/plain": [
       "distance_nose_to_lip_long         0         1\n",
       "gender                                       \n",
       "Female                     0.878449  0.121551\n",
       "Male                       0.123600  0.876400"
      ]
     },
     "execution_count": 20,
     "metadata": {},
     "output_type": "execute_result"
    }
   ],
   "source": [
    "pd.crosstab(data['gender'], data['distance_nose_to_lip_long'], normalize='index')"
   ]
  },
  {
   "cell_type": "markdown",
   "metadata": {},
   "source": [
    "* Distance of nose to lips is an important feature to consider:\n",
    "    - 12% of females have long distance between their lips and nose, 88% have short distance\n",
    "    - 86% of males have long distance between their lips and nose, 12% have short distance\n",
    "* There is a polarity in distance of nose to lips for both genders. The dataset suggests that males generally have longer distance between their lips and nose as opposed to females."
   ]
  },
  {
   "cell_type": "markdown",
   "metadata": {},
   "source": [
    "## FE - Feature Engineering"
   ]
  },
  {
   "cell_type": "code",
   "execution_count": 21,
   "metadata": {},
   "outputs": [
    {
     "data": {
      "text/html": [
       "<div>\n",
       "<style scoped>\n",
       "    .dataframe tbody tr th:only-of-type {\n",
       "        vertical-align: middle;\n",
       "    }\n",
       "\n",
       "    .dataframe tbody tr th {\n",
       "        vertical-align: top;\n",
       "    }\n",
       "\n",
       "    .dataframe thead th {\n",
       "        text-align: right;\n",
       "    }\n",
       "</style>\n",
       "<table border=\"1\" class=\"dataframe\">\n",
       "  <thead>\n",
       "    <tr style=\"text-align: right;\">\n",
       "      <th></th>\n",
       "      <th>long_hair</th>\n",
       "      <th>forehead_width_cm</th>\n",
       "      <th>forehead_height_cm</th>\n",
       "      <th>nose_wide</th>\n",
       "      <th>nose_long</th>\n",
       "      <th>lips_thin</th>\n",
       "      <th>distance_nose_to_lip_long</th>\n",
       "      <th>gender</th>\n",
       "    </tr>\n",
       "  </thead>\n",
       "  <tbody>\n",
       "    <tr>\n",
       "      <th>0</th>\n",
       "      <td>1</td>\n",
       "      <td>11.8</td>\n",
       "      <td>6.1</td>\n",
       "      <td>1</td>\n",
       "      <td>0</td>\n",
       "      <td>1</td>\n",
       "      <td>1</td>\n",
       "      <td>Male</td>\n",
       "    </tr>\n",
       "    <tr>\n",
       "      <th>1</th>\n",
       "      <td>0</td>\n",
       "      <td>14.0</td>\n",
       "      <td>5.4</td>\n",
       "      <td>0</td>\n",
       "      <td>0</td>\n",
       "      <td>1</td>\n",
       "      <td>0</td>\n",
       "      <td>Female</td>\n",
       "    </tr>\n",
       "    <tr>\n",
       "      <th>2</th>\n",
       "      <td>0</td>\n",
       "      <td>11.8</td>\n",
       "      <td>6.3</td>\n",
       "      <td>1</td>\n",
       "      <td>1</td>\n",
       "      <td>1</td>\n",
       "      <td>1</td>\n",
       "      <td>Male</td>\n",
       "    </tr>\n",
       "    <tr>\n",
       "      <th>3</th>\n",
       "      <td>0</td>\n",
       "      <td>14.4</td>\n",
       "      <td>6.1</td>\n",
       "      <td>0</td>\n",
       "      <td>1</td>\n",
       "      <td>1</td>\n",
       "      <td>1</td>\n",
       "      <td>Male</td>\n",
       "    </tr>\n",
       "    <tr>\n",
       "      <th>4</th>\n",
       "      <td>1</td>\n",
       "      <td>13.5</td>\n",
       "      <td>5.9</td>\n",
       "      <td>0</td>\n",
       "      <td>0</td>\n",
       "      <td>0</td>\n",
       "      <td>0</td>\n",
       "      <td>Female</td>\n",
       "    </tr>\n",
       "  </tbody>\n",
       "</table>\n",
       "</div>"
      ],
      "text/plain": [
       "   long_hair  forehead_width_cm  forehead_height_cm  nose_wide  nose_long  \\\n",
       "0          1               11.8                 6.1          1          0   \n",
       "1          0               14.0                 5.4          0          0   \n",
       "2          0               11.8                 6.3          1          1   \n",
       "3          0               14.4                 6.1          0          1   \n",
       "4          1               13.5                 5.9          0          0   \n",
       "\n",
       "   lips_thin  distance_nose_to_lip_long  gender  \n",
       "0          1                          1    Male  \n",
       "1          1                          0  Female  \n",
       "2          1                          1    Male  \n",
       "3          1                          1    Male  \n",
       "4          0                          0  Female  "
      ]
     },
     "execution_count": 21,
     "metadata": {},
     "output_type": "execute_result"
    }
   ],
   "source": [
    "data.head()"
   ]
  },
  {
   "cell_type": "code",
   "execution_count": 22,
   "metadata": {},
   "outputs": [],
   "source": [
    "# Dropping the long_hair column as it is not a determining factor\n",
    "data = data.drop('long_hair', axis=1)\n",
    "\n",
    "# Mapping genders to 0 and 1\n",
    "gender={\n",
    "    'Female':0,\n",
    "    'Male': 1\n",
    "}\n",
    "data['gender'] = data['gender'].map(gender)\n",
    "\n",
    "# splitting data into independent and dependent variables\n",
    "x = data.drop('gender', axis=1)\n",
    "y = data['gender']"
   ]
  },
  {
   "cell_type": "code",
   "execution_count": 23,
   "metadata": {},
   "outputs": [
    {
     "data": {
      "text/html": [
       "<div>\n",
       "<style scoped>\n",
       "    .dataframe tbody tr th:only-of-type {\n",
       "        vertical-align: middle;\n",
       "    }\n",
       "\n",
       "    .dataframe tbody tr th {\n",
       "        vertical-align: top;\n",
       "    }\n",
       "\n",
       "    .dataframe thead th {\n",
       "        text-align: right;\n",
       "    }\n",
       "</style>\n",
       "<table border=\"1\" class=\"dataframe\">\n",
       "  <thead>\n",
       "    <tr style=\"text-align: right;\">\n",
       "      <th></th>\n",
       "      <th>forehead_width_cm</th>\n",
       "      <th>forehead_height_cm</th>\n",
       "      <th>nose_wide</th>\n",
       "      <th>nose_long</th>\n",
       "      <th>lips_thin</th>\n",
       "      <th>distance_nose_to_lip_long</th>\n",
       "      <th>gender</th>\n",
       "    </tr>\n",
       "  </thead>\n",
       "  <tbody>\n",
       "    <tr>\n",
       "      <th>0</th>\n",
       "      <td>11.8</td>\n",
       "      <td>6.1</td>\n",
       "      <td>1</td>\n",
       "      <td>0</td>\n",
       "      <td>1</td>\n",
       "      <td>1</td>\n",
       "      <td>1</td>\n",
       "    </tr>\n",
       "    <tr>\n",
       "      <th>1</th>\n",
       "      <td>14.0</td>\n",
       "      <td>5.4</td>\n",
       "      <td>0</td>\n",
       "      <td>0</td>\n",
       "      <td>1</td>\n",
       "      <td>0</td>\n",
       "      <td>0</td>\n",
       "    </tr>\n",
       "    <tr>\n",
       "      <th>2</th>\n",
       "      <td>11.8</td>\n",
       "      <td>6.3</td>\n",
       "      <td>1</td>\n",
       "      <td>1</td>\n",
       "      <td>1</td>\n",
       "      <td>1</td>\n",
       "      <td>1</td>\n",
       "    </tr>\n",
       "    <tr>\n",
       "      <th>3</th>\n",
       "      <td>14.4</td>\n",
       "      <td>6.1</td>\n",
       "      <td>0</td>\n",
       "      <td>1</td>\n",
       "      <td>1</td>\n",
       "      <td>1</td>\n",
       "      <td>1</td>\n",
       "    </tr>\n",
       "    <tr>\n",
       "      <th>4</th>\n",
       "      <td>13.5</td>\n",
       "      <td>5.9</td>\n",
       "      <td>0</td>\n",
       "      <td>0</td>\n",
       "      <td>0</td>\n",
       "      <td>0</td>\n",
       "      <td>0</td>\n",
       "    </tr>\n",
       "  </tbody>\n",
       "</table>\n",
       "</div>"
      ],
      "text/plain": [
       "   forehead_width_cm  forehead_height_cm  nose_wide  nose_long  lips_thin  \\\n",
       "0               11.8                 6.1          1          0          1   \n",
       "1               14.0                 5.4          0          0          1   \n",
       "2               11.8                 6.3          1          1          1   \n",
       "3               14.4                 6.1          0          1          1   \n",
       "4               13.5                 5.9          0          0          0   \n",
       "\n",
       "   distance_nose_to_lip_long  gender  \n",
       "0                          1       1  \n",
       "1                          0       0  \n",
       "2                          1       1  \n",
       "3                          1       1  \n",
       "4                          0       0  "
      ]
     },
     "execution_count": 23,
     "metadata": {},
     "output_type": "execute_result"
    }
   ],
   "source": [
    "data.head()"
   ]
  },
  {
   "cell_type": "code",
   "execution_count": 24,
   "metadata": {},
   "outputs": [],
   "source": [
    "# Splitting data into training and test set\n",
    "\n",
    "x_train, x_test, y_train, y_test = train_test_split(x, y, test_size=0.2, random_state= 32)"
   ]
  },
  {
   "cell_type": "markdown",
   "metadata": {},
   "source": [
    "## Models Training (Without hyperparameters tuning)"
   ]
  },
  {
   "cell_type": "markdown",
   "metadata": {},
   "source": [
    "#### Gaussian Naive Bayes"
   ]
  },
  {
   "cell_type": "code",
   "execution_count": 25,
   "metadata": {},
   "outputs": [
    {
     "data": {
      "text/plain": [
       "GaussianNB()"
      ]
     },
     "execution_count": 25,
     "metadata": {},
     "output_type": "execute_result"
    }
   ],
   "source": [
    "NB_classifier = GaussianNB()\n",
    "NB_classifier.fit(x_train, y_train)\n"
   ]
  },
  {
   "cell_type": "code",
   "execution_count": 26,
   "metadata": {},
   "outputs": [
    {
     "name": "stdout",
     "output_type": "stream",
     "text": [
      "NaiveBayes Classifier prediction score without hyperparameters tuning 88.4 %\n"
     ]
    }
   ],
   "source": [
    "NB_predictions = NB_classifier.predict(x_test)\n",
    "nb_score = r2_score(NB_predictions, y_test)\n",
    "print('NaiveBayes Classifier prediction score without hyperparameters tuning', round(nb_score, 3)*100,'%')"
   ]
  },
  {
   "cell_type": "code",
   "execution_count": 27,
   "metadata": {},
   "outputs": [],
   "source": [
    "NB_confusion_matrix = confusion_matrix(y_test, NB_predictions)"
   ]
  },
  {
   "cell_type": "code",
   "execution_count": 28,
   "metadata": {},
   "outputs": [
    {
     "data": {
      "image/png": "[encoded data removed]",
      "text/plain": [
       "<Figure size 504x360 with 2 Axes>"
      ]
     },
     "metadata": {
      "needs_background": "light"
     },
     "output_type": "display_data"
    }
   ],
   "source": [
    "plt.figure(figsize=(7,5))\n",
    "sns.heatmap(NB_confusion_matrix, cmap='Greens', annot=True, fmt='', xticklabels=['Female', 'Male'], yticklabels=['Female', 'Male']) #fmt specifies format i.e 2dp percentage, whole number. float\n",
    "plt.title(\"GaussianNB Heat Map of Actual gender/Predicted\")\n",
    "\n",
    "plt.show()"
   ]
  },
  {
   "cell_type": "markdown",
   "metadata": {},
   "source": [
    "#### XGBoost Classifier"
   ]
  },
  {
   "cell_type": "code",
   "execution_count": 29,
   "metadata": {},
   "outputs": [
    {
     "data": {
      "text/plain": [
       "XGBClassifier(base_score=0.5, booster='gbtree', colsample_bylevel=1,\n",
       "              colsample_bynode=1, colsample_bytree=1, enable_categorical=False,\n",
       "              eval_metric='logloss', gamma=0, gpu_id=-1, importance_type=None,\n",
       "              interaction_constraints='', learning_rate=0.300000012,\n",
       "              max_delta_step=0, max_depth=6, min_child_weight=1, missing=nan,\n",
       "              monotone_constraints='()', n_estimators=100, n_jobs=8,\n",
       "              num_parallel_tree=1, predictor='auto', random_state=0,\n",
       "              reg_alpha=0, reg_lambda=1, scale_pos_weight=1, subsample=1,\n",
       "              tree_method='exact', validate_parameters=1, verbosity=None)"
      ]
     },
     "execution_count": 29,
     "metadata": {},
     "output_type": "execute_result"
    }
   ],
   "source": [
    "XGB_classifier = XGBClassifier(eval_metric= 'logloss')\n",
    "XGB_classifier.fit(x_train, y_train)"
   ]
  },
  {
   "cell_type": "code",
   "execution_count": 30,
   "metadata": {},
   "outputs": [
    {
     "name": "stdout",
     "output_type": "stream",
     "text": [
      "XGB Classifier prediction score without hyperparameters tuning 86.8 %\n"
     ]
    }
   ],
   "source": [
    "XGB_predictions = XGB_classifier.predict(x_test)\n",
    "nb_score = r2_score(XGB_predictions, y_test)\n",
    "print('XGB Classifier prediction score without hyperparameters tuning', round(nb_score, 3)*100,'%')"
   ]
  },
  {
   "cell_type": "markdown",
   "metadata": {},
   "source": [
    "#### SVM Classifier"
   ]
  },
  {
   "cell_type": "code",
   "execution_count": 31,
   "metadata": {},
   "outputs": [
    {
     "data": {
      "text/plain": [
       "SVC()"
      ]
     },
     "execution_count": 31,
     "metadata": {},
     "output_type": "execute_result"
    }
   ],
   "source": [
    "SVM_classifier = svm.SVC()\n",
    "SVM_classifier.fit(x_train, y_train)"
   ]
  },
  {
   "cell_type": "code",
   "execution_count": 32,
   "metadata": {},
   "outputs": [
    {
     "name": "stdout",
     "output_type": "stream",
     "text": [
      "SVM Classifier prediction score without hyperparameters tuning 90.0 %\n"
     ]
    }
   ],
   "source": [
    "SVM_predictions = SVM_classifier.predict(x_test)\n",
    "nb_score = r2_score(SVM_predictions, y_test)\n",
    "print('SVM Classifier prediction score without hyperparameters tuning', round(nb_score, 3)*100,'%')"
   ]
  },
  {
   "cell_type": "markdown",
   "metadata": {},
   "source": [
    "#### KNN"
   ]
  },
  {
   "cell_type": "code",
   "execution_count": 33,
   "metadata": {},
   "outputs": [
    {
     "data": {
      "text/plain": [
       "KNeighborsClassifier()"
      ]
     },
     "execution_count": 33,
     "metadata": {},
     "output_type": "execute_result"
    }
   ],
   "source": [
    "KNN_classifier = knn()\n",
    "KNN_classifier.fit(x_train, y_train)"
   ]
  },
  {
   "cell_type": "code",
   "execution_count": 34,
   "metadata": {},
   "outputs": [
    {
     "name": "stdout",
     "output_type": "stream",
     "text": [
      "KNN Classifier prediction score without hyperparameters tuning 82.8 %\n"
     ]
    }
   ],
   "source": [
    "KNN_predictions = KNN_classifier.predict(x_test)\n",
    "KNN_score = r2_score(KNN_predictions, y_test)\n",
    "print('KNN Classifier prediction score without hyperparameters tuning', round(KNN_score, 3)*100,'%')"
   ]
  },
  {
   "cell_type": "markdown",
   "metadata": {},
   "source": [
    "## Corss Validation/Hyperparameters tuning"
   ]
  },
  {
   "cell_type": "markdown",
   "metadata": {},
   "source": [
    "> There will be no hyper parameter tuning for Naive Bayes as there are little to no hypeparameters to adjust"
   ]
  },
  {
   "cell_type": "markdown",
   "metadata": {},
   "source": [
    "#### Tuned XGBoost Classifier"
   ]
  },
  {
   "cell_type": "code",
   "execution_count": 35,
   "metadata": {},
   "outputs": [],
   "source": [
    "# Parameters dictionary\n",
    "params_XGB = {\n",
    "    'learning_rate': [0.01, 0.1, 0.2],\n",
    "    'n_estimators': [100, 200, 300, 400],\n",
    "    'max_depth': [3,4,5,6,7],\n",
    "    'subsample': [0.8, 0.9, 1],\n",
    "    'colsample_bytree': [0.3, 0.4, 0.5, 0.6, 0.7, 0.8, 0.9, 1,0],\n",
    "    'gamma': [0, 1, 5],\n",
    "}"
   ]
  },
  {
   "cell_type": "code",
   "execution_count": 137,
   "metadata": {},
   "outputs": [],
   "source": [
    "grid_search = GridSearchCV(XGB_classifier, param_grid=params_XGB, n_jobs= -1, verbose=0)\n",
    "grid_search.fit(x_train, y_train)"
   ]
  },
  {
   "cell_type": "code",
   "execution_count": 39,
   "metadata": {},
   "outputs": [
    {
     "data": {
      "text/plain": [
       "XGBClassifier(base_score=0.5, booster='gbtree', colsample_bylevel=1,\n",
       "              colsample_bynode=1, colsample_bytree=0.3,\n",
       "              enable_categorical=False, gamma=1, gpu_id=-1,\n",
       "              importance_type=None, interaction_constraints='',\n",
       "              learning_rate=0.1, max_delta_step=0, max_depth=7,\n",
       "              min_child_weight=1, missing=nan, monotone_constraints='()',\n",
       "              n_estimators=200, n_jobs=8, num_parallel_tree=1, predictor='auto',\n",
       "              random_state=0, reg_alpha=0, reg_lambda=1, scale_pos_weight=1,\n",
       "              subsample=1, tree_method='exact', validate_parameters=1,\n",
       "              verbosity=None)"
      ]
     },
     "execution_count": 39,
     "metadata": {},
     "output_type": "execute_result"
    }
   ],
   "source": [
    "grid_search.best_estimator_"
   ]
  },
  {
   "cell_type": "code",
   "execution_count": 35,
   "metadata": {},
   "outputs": [],
   "source": [
    "#XGBClassifier trained with tuned hyper-paraeters \n",
    "\n",
    "XGB_tuned_classifier = XGBClassifier(colsample_bytree=0.3, gamma=1, learning_rate=0.1, max_depth=7, n_estimators=200, subsample=1, eval_metric= 'logloss')"
   ]
  },
  {
   "cell_type": "code",
   "execution_count": 36,
   "metadata": {},
   "outputs": [
    {
     "data": {
      "text/plain": [
       "XGBClassifier(base_score=0.5, booster='gbtree', colsample_bylevel=1,\n",
       "              colsample_bynode=1, colsample_bytree=0.3,\n",
       "              enable_categorical=False, eval_metric='logloss', gamma=1,\n",
       "              gpu_id=-1, importance_type=None, interaction_constraints='',\n",
       "              learning_rate=0.1, max_delta_step=0, max_depth=7,\n",
       "              min_child_weight=1, missing=nan, monotone_constraints='()',\n",
       "              n_estimators=200, n_jobs=8, num_parallel_tree=1, predictor='auto',\n",
       "              random_state=0, reg_alpha=0, reg_lambda=1, scale_pos_weight=1,\n",
       "              subsample=1, tree_method='exact', validate_parameters=1,\n",
       "              verbosity=None)"
      ]
     },
     "execution_count": 36,
     "metadata": {},
     "output_type": "execute_result"
    }
   ],
   "source": [
    "XGB_tuned_classifier.fit(x_train,y_train)"
   ]
  },
  {
   "cell_type": "code",
   "execution_count": 37,
   "metadata": {},
   "outputs": [
    {
     "name": "stdout",
     "output_type": "stream",
     "text": [
      "XGB Classifier prediction score with hyperparameters tuning 92.0 %\n"
     ]
    }
   ],
   "source": [
    "XGB_tuned_predictions = XGB_tuned_classifier.predict(x_test)\n",
    "XGB_tuned_score = r2_score(XGB_tuned_predictions, y_test)\n",
    "print('XGB Classifier prediction score with hyperparameters tuning', round(XGB_tuned_score, 2)*100,'%')"
   ]
  },
  {
   "cell_type": "code",
   "execution_count": 38,
   "metadata": {},
   "outputs": [
    {
     "name": "stdout",
     "output_type": "stream",
     "text": [
      "[0]\tvalidation_0-logloss:0.64024\tvalidation_0-auc:0.87350\tvalidation_1-logloss:0.63731\tvalidation_1-auc:0.89309\n",
      "[1]\tvalidation_0-logloss:0.59300\tvalidation_0-auc:0.95520\tvalidation_1-logloss:0.59056\tvalidation_1-auc:0.96820\n",
      "[2]\tvalidation_0-logloss:0.54969\tvalidation_0-auc:0.98343\tvalidation_1-logloss:0.54504\tvalidation_1-auc:0.99051\n",
      "[3]\tvalidation_0-logloss:0.51143\tvalidation_0-auc:0.99338\tvalidation_1-logloss:0.50674\tvalidation_1-auc:0.99634\n",
      "[4]\tvalidation_0-logloss:0.49866\tvalidation_0-auc:0.99568\tvalidation_1-logloss:0.49504\tvalidation_1-auc:0.99685\n",
      "[5]\tvalidation_0-logloss:0.48790\tvalidation_0-auc:0.99615\tvalidation_1-logloss:0.48542\tvalidation_1-auc:0.99647\n",
      "[6]\tvalidation_0-logloss:0.45807\tvalidation_0-auc:0.99540\tvalidation_1-logloss:0.45630\tvalidation_1-auc:0.99557\n",
      "[7]\tvalidation_0-logloss:0.43071\tvalidation_0-auc:0.99551\tvalidation_1-logloss:0.42895\tvalidation_1-auc:0.99542\n",
      "[8]\tvalidation_0-logloss:0.42289\tvalidation_0-auc:0.99567\tvalidation_1-logloss:0.42211\tvalidation_1-auc:0.99524\n",
      "[9]\tvalidation_0-logloss:0.39705\tvalidation_0-auc:0.99623\tvalidation_1-logloss:0.39522\tvalidation_1-auc:0.99513\n",
      "[10]\tvalidation_0-logloss:0.37643\tvalidation_0-auc:0.99594\tvalidation_1-logloss:0.37477\tvalidation_1-auc:0.99499\n",
      "[11]\tvalidation_0-logloss:0.35612\tvalidation_0-auc:0.99621\tvalidation_1-logloss:0.35364\tvalidation_1-auc:0.99487\n",
      "[12]\tvalidation_0-logloss:0.33906\tvalidation_0-auc:0.99506\tvalidation_1-logloss:0.33580\tvalidation_1-auc:0.99344\n",
      "[13]\tvalidation_0-logloss:0.33292\tvalidation_0-auc:0.99579\tvalidation_1-logloss:0.32925\tvalidation_1-auc:0.99447\n",
      "[14]\tvalidation_0-logloss:0.31638\tvalidation_0-auc:0.99636\tvalidation_1-logloss:0.31359\tvalidation_1-auc:0.99537\n",
      "[15]\tvalidation_0-logloss:0.30244\tvalidation_0-auc:0.99622\tvalidation_1-logloss:0.30007\tvalidation_1-auc:0.99519\n",
      "[16]\tvalidation_0-logloss:0.28608\tvalidation_0-auc:0.99648\tvalidation_1-logloss:0.28220\tvalidation_1-auc:0.99545\n",
      "[17]\tvalidation_0-logloss:0.28160\tvalidation_0-auc:0.99674\tvalidation_1-logloss:0.27744\tvalidation_1-auc:0.99583\n",
      "[18]\tvalidation_0-logloss:0.26808\tvalidation_0-auc:0.99680\tvalidation_1-logloss:0.26251\tvalidation_1-auc:0.99641\n",
      "[19]\tvalidation_0-logloss:0.25747\tvalidation_0-auc:0.99675\tvalidation_1-logloss:0.25159\tvalidation_1-auc:0.99618\n",
      "[20]\tvalidation_0-logloss:0.24854\tvalidation_0-auc:0.99659\tvalidation_1-logloss:0.24234\tvalidation_1-auc:0.99604\n",
      "[21]\tvalidation_0-logloss:0.24525\tvalidation_0-auc:0.99670\tvalidation_1-logloss:0.23876\tvalidation_1-auc:0.99619\n",
      "[22]\tvalidation_0-logloss:0.23617\tvalidation_0-auc:0.99668\tvalidation_1-logloss:0.23020\tvalidation_1-auc:0.99614\n",
      "[23]\tvalidation_0-logloss:0.22854\tvalidation_0-auc:0.99647\tvalidation_1-logloss:0.22303\tvalidation_1-auc:0.99590\n",
      "[24]\tvalidation_0-logloss:0.21914\tvalidation_0-auc:0.99663\tvalidation_1-logloss:0.21439\tvalidation_1-auc:0.99585\n",
      "[25]\tvalidation_0-logloss:0.21653\tvalidation_0-auc:0.99677\tvalidation_1-logloss:0.21157\tvalidation_1-auc:0.99621\n",
      "[26]\tvalidation_0-logloss:0.21425\tvalidation_0-auc:0.99681\tvalidation_1-logloss:0.20909\tvalidation_1-auc:0.99624\n",
      "[27]\tvalidation_0-logloss:0.20799\tvalidation_0-auc:0.99673\tvalidation_1-logloss:0.20272\tvalidation_1-auc:0.99616\n",
      "[28]\tvalidation_0-logloss:0.20273\tvalidation_0-auc:0.99652\tvalidation_1-logloss:0.19734\tvalidation_1-auc:0.99590\n",
      "[29]\tvalidation_0-logloss:0.19833\tvalidation_0-auc:0.99589\tvalidation_1-logloss:0.19281\tvalidation_1-auc:0.99508\n",
      "[30]\tvalidation_0-logloss:0.19649\tvalidation_0-auc:0.99594\tvalidation_1-logloss:0.19082\tvalidation_1-auc:0.99513\n",
      "[31]\tvalidation_0-logloss:0.19487\tvalidation_0-auc:0.99599\tvalidation_1-logloss:0.18906\tvalidation_1-auc:0.99531\n",
      "[32]\tvalidation_0-logloss:0.19129\tvalidation_0-auc:0.99574\tvalidation_1-logloss:0.18537\tvalidation_1-auc:0.99510\n",
      "[33]\tvalidation_0-logloss:0.18830\tvalidation_0-auc:0.99546\tvalidation_1-logloss:0.18226\tvalidation_1-auc:0.99463\n",
      "[34]\tvalidation_0-logloss:0.18692\tvalidation_0-auc:0.99551\tvalidation_1-logloss:0.18076\tvalidation_1-auc:0.99474\n",
      "[35]\tvalidation_0-logloss:0.18570\tvalidation_0-auc:0.99554\tvalidation_1-logloss:0.17942\tvalidation_1-auc:0.99486\n",
      "[36]\tvalidation_0-logloss:0.18462\tvalidation_0-auc:0.99556\tvalidation_1-logloss:0.17824\tvalidation_1-auc:0.99488\n",
      "[37]\tvalidation_0-logloss:0.18220\tvalidation_0-auc:0.99492\tvalidation_1-logloss:0.17571\tvalidation_1-auc:0.99433\n",
      "[38]\tvalidation_0-logloss:0.17547\tvalidation_0-auc:0.99496\tvalidation_1-logloss:0.16988\tvalidation_1-auc:0.99437\n",
      "[39]\tvalidation_0-logloss:0.16982\tvalidation_0-auc:0.99507\tvalidation_1-logloss:0.16503\tvalidation_1-auc:0.99448\n",
      "[40]\tvalidation_0-logloss:0.16700\tvalidation_0-auc:0.99528\tvalidation_1-logloss:0.16308\tvalidation_1-auc:0.99452\n",
      "[41]\tvalidation_0-logloss:0.16030\tvalidation_0-auc:0.99652\tvalidation_1-logloss:0.15535\tvalidation_1-auc:0.99618\n",
      "[42]\tvalidation_0-logloss:0.15946\tvalidation_0-auc:0.99653\tvalidation_1-logloss:0.15443\tvalidation_1-auc:0.99618\n",
      "[43]\tvalidation_0-logloss:0.15872\tvalidation_0-auc:0.99654\tvalidation_1-logloss:0.15361\tvalidation_1-auc:0.99619\n",
      "[44]\tvalidation_0-logloss:0.15642\tvalidation_0-auc:0.99685\tvalidation_1-logloss:0.15195\tvalidation_1-auc:0.99638\n",
      "[45]\tvalidation_0-logloss:0.15201\tvalidation_0-auc:0.99685\tvalidation_1-logloss:0.14812\tvalidation_1-auc:0.99636\n",
      "[46]\tvalidation_0-logloss:0.14782\tvalidation_0-auc:0.99687\tvalidation_1-logloss:0.14461\tvalidation_1-auc:0.99645\n",
      "[47]\tvalidation_0-logloss:0.14431\tvalidation_0-auc:0.99685\tvalidation_1-logloss:0.14171\tvalidation_1-auc:0.99655\n",
      "[48]\tvalidation_0-logloss:0.14243\tvalidation_0-auc:0.99694\tvalidation_1-logloss:0.14040\tvalidation_1-auc:0.99662\n",
      "[49]\tvalidation_0-logloss:0.13954\tvalidation_0-auc:0.99691\tvalidation_1-logloss:0.13806\tvalidation_1-auc:0.99653\n",
      "[50]\tvalidation_0-logloss:0.13894\tvalidation_0-auc:0.99692\tvalidation_1-logloss:0.13738\tvalidation_1-auc:0.99657\n",
      "[51]\tvalidation_0-logloss:0.13745\tvalidation_0-auc:0.99690\tvalidation_1-logloss:0.13590\tvalidation_1-auc:0.99657\n",
      "[52]\tvalidation_0-logloss:0.13691\tvalidation_0-auc:0.99690\tvalidation_1-logloss:0.13530\tvalidation_1-auc:0.99658\n",
      "[53]\tvalidation_0-logloss:0.13644\tvalidation_0-auc:0.99691\tvalidation_1-logloss:0.13476\tvalidation_1-auc:0.99659\n",
      "[54]\tvalidation_0-logloss:0.13481\tvalidation_0-auc:0.99696\tvalidation_1-logloss:0.13364\tvalidation_1-auc:0.99665\n",
      "[55]\tvalidation_0-logloss:0.13243\tvalidation_0-auc:0.99694\tvalidation_1-logloss:0.13178\tvalidation_1-auc:0.99658\n",
      "[56]\tvalidation_0-logloss:0.13100\tvalidation_0-auc:0.99712\tvalidation_1-logloss:0.13081\tvalidation_1-auc:0.99669\n",
      "[57]\tvalidation_0-logloss:0.12980\tvalidation_0-auc:0.99705\tvalidation_1-logloss:0.12961\tvalidation_1-auc:0.99654\n",
      "[58]\tvalidation_0-logloss:0.12529\tvalidation_0-auc:0.99710\tvalidation_1-logloss:0.12404\tvalidation_1-auc:0.99679\n",
      "[59]\tvalidation_0-logloss:0.12151\tvalidation_0-auc:0.99710\tvalidation_1-logloss:0.11924\tvalidation_1-auc:0.99681\n",
      "[60]\tvalidation_0-logloss:0.11833\tvalidation_0-auc:0.99710\tvalidation_1-logloss:0.11511\tvalidation_1-auc:0.99695\n",
      "[61]\tvalidation_0-logloss:0.11798\tvalidation_0-auc:0.99711\tvalidation_1-logloss:0.11470\tvalidation_1-auc:0.99697\n",
      "[62]\tvalidation_0-logloss:0.11710\tvalidation_0-auc:0.99709\tvalidation_1-logloss:0.11387\tvalidation_1-auc:0.99695\n",
      "[63]\tvalidation_0-logloss:0.11594\tvalidation_0-auc:0.99716\tvalidation_1-logloss:0.11315\tvalidation_1-auc:0.99697\n",
      "[64]\tvalidation_0-logloss:0.11522\tvalidation_0-auc:0.99715\tvalidation_1-logloss:0.11247\tvalidation_1-auc:0.99697\n",
      "[65]\tvalidation_0-logloss:0.11490\tvalidation_0-auc:0.99715\tvalidation_1-logloss:0.11210\tvalidation_1-auc:0.99698\n",
      "[66]\tvalidation_0-logloss:0.11462\tvalidation_0-auc:0.99716\tvalidation_1-logloss:0.11177\tvalidation_1-auc:0.99699\n",
      "[67]\tvalidation_0-logloss:0.11203\tvalidation_0-auc:0.99712\tvalidation_1-logloss:0.10829\tvalidation_1-auc:0.99725\n",
      "[68]\tvalidation_0-logloss:0.11031\tvalidation_0-auc:0.99712\tvalidation_1-logloss:0.10702\tvalidation_1-auc:0.99725\n",
      "[69]\tvalidation_0-logloss:0.10818\tvalidation_0-auc:0.99709\tvalidation_1-logloss:0.10404\tvalidation_1-auc:0.99726\n",
      "[70]\tvalidation_0-logloss:0.10554\tvalidation_0-auc:0.99708\tvalidation_1-logloss:0.10181\tvalidation_1-auc:0.99723\n",
      "[71]\tvalidation_0-logloss:0.10496\tvalidation_0-auc:0.99707\tvalidation_1-logloss:0.10130\tvalidation_1-auc:0.99723\n",
      "[72]\tvalidation_0-logloss:0.10359\tvalidation_0-auc:0.99707\tvalidation_1-logloss:0.10032\tvalidation_1-auc:0.99723\n",
      "[73]\tvalidation_0-logloss:0.10189\tvalidation_0-auc:0.99706\tvalidation_1-logloss:0.09782\tvalidation_1-auc:0.99726\n",
      "[74]\tvalidation_0-logloss:0.10095\tvalidation_0-auc:0.99710\tvalidation_1-logloss:0.09722\tvalidation_1-auc:0.99726\n",
      "[75]\tvalidation_0-logloss:0.10012\tvalidation_0-auc:0.99713\tvalidation_1-logloss:0.09670\tvalidation_1-auc:0.99727\n",
      "[76]\tvalidation_0-logloss:0.09963\tvalidation_0-auc:0.99712\tvalidation_1-logloss:0.09629\tvalidation_1-auc:0.99726\n",
      "[77]\tvalidation_0-logloss:0.09941\tvalidation_0-auc:0.99713\tvalidation_1-logloss:0.09602\tvalidation_1-auc:0.99727\n",
      "[78]\tvalidation_0-logloss:0.09867\tvalidation_0-auc:0.99717\tvalidation_1-logloss:0.09559\tvalidation_1-auc:0.99729\n",
      "[79]\tvalidation_0-logloss:0.09795\tvalidation_0-auc:0.99724\tvalidation_1-logloss:0.09514\tvalidation_1-auc:0.99737\n",
      "[80]\tvalidation_0-logloss:0.09657\tvalidation_0-auc:0.99723\tvalidation_1-logloss:0.09301\tvalidation_1-auc:0.99745\n",
      "[81]\tvalidation_0-logloss:0.09638\tvalidation_0-auc:0.99723\tvalidation_1-logloss:0.09278\tvalidation_1-auc:0.99745\n",
      "[82]\tvalidation_0-logloss:0.09598\tvalidation_0-auc:0.99723\tvalidation_1-logloss:0.09245\tvalidation_1-auc:0.99745\n",
      "[83]\tvalidation_0-logloss:0.09485\tvalidation_0-auc:0.99720\tvalidation_1-logloss:0.09169\tvalidation_1-auc:0.99734\n",
      "[84]\tvalidation_0-logloss:0.09451\tvalidation_0-auc:0.99719\tvalidation_1-logloss:0.09143\tvalidation_1-auc:0.99734\n",
      "[85]\tvalidation_0-logloss:0.09385\tvalidation_0-auc:0.99723\tvalidation_1-logloss:0.09111\tvalidation_1-auc:0.99740\n",
      "[86]\tvalidation_0-logloss:0.09181\tvalidation_0-auc:0.99724\tvalidation_1-logloss:0.08942\tvalidation_1-auc:0.99740\n",
      "[87]\tvalidation_0-logloss:0.09071\tvalidation_0-auc:0.99723\tvalidation_1-logloss:0.08761\tvalidation_1-auc:0.99747\n",
      "[88]\tvalidation_0-logloss:0.08979\tvalidation_0-auc:0.99722\tvalidation_1-logloss:0.08604\tvalidation_1-auc:0.99750\n",
      "[89]\tvalidation_0-logloss:0.08929\tvalidation_0-auc:0.99724\tvalidation_1-logloss:0.08573\tvalidation_1-auc:0.99750\n",
      "[90]\tvalidation_0-logloss:0.08853\tvalidation_0-auc:0.99725\tvalidation_1-logloss:0.08437\tvalidation_1-auc:0.99746\n",
      "[91]\tvalidation_0-logloss:0.08808\tvalidation_0-auc:0.99726\tvalidation_1-logloss:0.08409\tvalidation_1-auc:0.99747\n",
      "[92]\tvalidation_0-logloss:0.08746\tvalidation_0-auc:0.99723\tvalidation_1-logloss:0.08292\tvalidation_1-auc:0.99759\n",
      "[93]\tvalidation_0-logloss:0.08656\tvalidation_0-auc:0.99721\tvalidation_1-logloss:0.08232\tvalidation_1-auc:0.99755\n",
      "[94]\tvalidation_0-logloss:0.08640\tvalidation_0-auc:0.99722\tvalidation_1-logloss:0.08213\tvalidation_1-auc:0.99755\n",
      "[95]\tvalidation_0-logloss:0.08626\tvalidation_0-auc:0.99722\tvalidation_1-logloss:0.08195\tvalidation_1-auc:0.99755\n",
      "[96]\tvalidation_0-logloss:0.08581\tvalidation_0-auc:0.99726\tvalidation_1-logloss:0.08175\tvalidation_1-auc:0.99754\n",
      "[97]\tvalidation_0-logloss:0.08549\tvalidation_0-auc:0.99726\tvalidation_1-logloss:0.08154\tvalidation_1-auc:0.99751\n",
      "[98]\tvalidation_0-logloss:0.08512\tvalidation_0-auc:0.99730\tvalidation_1-logloss:0.08132\tvalidation_1-auc:0.99755\n",
      "[99]\tvalidation_0-logloss:0.08500\tvalidation_0-auc:0.99730\tvalidation_1-logloss:0.08115\tvalidation_1-auc:0.99755\n",
      "[100]\tvalidation_0-logloss:0.08467\tvalidation_0-auc:0.99733\tvalidation_1-logloss:0.08095\tvalidation_1-auc:0.99757\n",
      "[101]\tvalidation_0-logloss:0.08438\tvalidation_0-auc:0.99733\tvalidation_1-logloss:0.08080\tvalidation_1-auc:0.99757\n",
      "[102]\tvalidation_0-logloss:0.08362\tvalidation_0-auc:0.99729\tvalidation_1-logloss:0.08032\tvalidation_1-auc:0.99764\n",
      "[103]\tvalidation_0-logloss:0.08310\tvalidation_0-auc:0.99730\tvalidation_1-logloss:0.07928\tvalidation_1-auc:0.99760\n",
      "[104]\tvalidation_0-logloss:0.08284\tvalidation_0-auc:0.99731\tvalidation_1-logloss:0.07912\tvalidation_1-auc:0.99760\n",
      "[105]\tvalidation_0-logloss:0.08126\tvalidation_0-auc:0.99732\tvalidation_1-logloss:0.07782\tvalidation_1-auc:0.99759\n",
      "[106]\tvalidation_0-logloss:0.08097\tvalidation_0-auc:0.99733\tvalidation_1-logloss:0.07764\tvalidation_1-auc:0.99755\n",
      "[107]\tvalidation_0-logloss:0.07964\tvalidation_0-auc:0.99735\tvalidation_1-logloss:0.07658\tvalidation_1-auc:0.99751\n",
      "[108]\tvalidation_0-logloss:0.07855\tvalidation_0-auc:0.99738\tvalidation_1-logloss:0.07572\tvalidation_1-auc:0.99755\n",
      "[109]\tvalidation_0-logloss:0.07829\tvalidation_0-auc:0.99736\tvalidation_1-logloss:0.07559\tvalidation_1-auc:0.99754\n",
      "[110]\tvalidation_0-logloss:0.07819\tvalidation_0-auc:0.99737\tvalidation_1-logloss:0.07544\tvalidation_1-auc:0.99754\n",
      "[111]\tvalidation_0-logloss:0.07791\tvalidation_0-auc:0.99743\tvalidation_1-logloss:0.07529\tvalidation_1-auc:0.99762\n",
      "[112]\tvalidation_0-logloss:0.07769\tvalidation_0-auc:0.99743\tvalidation_1-logloss:0.07519\tvalidation_1-auc:0.99762\n",
      "[113]\tvalidation_0-logloss:0.07748\tvalidation_0-auc:0.99743\tvalidation_1-logloss:0.07506\tvalidation_1-auc:0.99762\n",
      "[114]\tvalidation_0-logloss:0.07685\tvalidation_0-auc:0.99740\tvalidation_1-logloss:0.07468\tvalidation_1-auc:0.99761\n",
      "[115]\tvalidation_0-logloss:0.07666\tvalidation_0-auc:0.99740\tvalidation_1-logloss:0.07457\tvalidation_1-auc:0.99761\n",
      "[116]\tvalidation_0-logloss:0.07574\tvalidation_0-auc:0.99741\tvalidation_1-logloss:0.07386\tvalidation_1-auc:0.99761\n",
      "[117]\tvalidation_0-logloss:0.07555\tvalidation_0-auc:0.99741\tvalidation_1-logloss:0.07378\tvalidation_1-auc:0.99761\n",
      "[118]\tvalidation_0-logloss:0.07513\tvalidation_0-auc:0.99742\tvalidation_1-logloss:0.07285\tvalidation_1-auc:0.99762\n",
      "[119]\tvalidation_0-logloss:0.07491\tvalidation_0-auc:0.99744\tvalidation_1-logloss:0.07274\tvalidation_1-auc:0.99763\n",
      "[120]\tvalidation_0-logloss:0.07414\tvalidation_0-auc:0.99746\tvalidation_1-logloss:0.07217\tvalidation_1-auc:0.99759\n",
      "[121]\tvalidation_0-logloss:0.07361\tvalidation_0-auc:0.99744\tvalidation_1-logloss:0.07186\tvalidation_1-auc:0.99757\n",
      "[122]\tvalidation_0-logloss:0.07343\tvalidation_0-auc:0.99743\tvalidation_1-logloss:0.07180\tvalidation_1-auc:0.99757\n",
      "[123]\tvalidation_0-logloss:0.07330\tvalidation_0-auc:0.99743\tvalidation_1-logloss:0.07171\tvalidation_1-auc:0.99757\n",
      "[124]\tvalidation_0-logloss:0.07321\tvalidation_0-auc:0.99744\tvalidation_1-logloss:0.07157\tvalidation_1-auc:0.99757\n",
      "[125]\tvalidation_0-logloss:0.07306\tvalidation_0-auc:0.99744\tvalidation_1-logloss:0.07154\tvalidation_1-auc:0.99757\n",
      "[126]\tvalidation_0-logloss:0.07261\tvalidation_0-auc:0.99744\tvalidation_1-logloss:0.07129\tvalidation_1-auc:0.99754\n",
      "[127]\tvalidation_0-logloss:0.07249\tvalidation_0-auc:0.99744\tvalidation_1-logloss:0.07120\tvalidation_1-auc:0.99754\n",
      "[128]\tvalidation_0-logloss:0.07240\tvalidation_0-auc:0.99744\tvalidation_1-logloss:0.07108\tvalidation_1-auc:0.99755\n",
      "[129]\tvalidation_0-logloss:0.07175\tvalidation_0-auc:0.99747\tvalidation_1-logloss:0.07061\tvalidation_1-auc:0.99739\n",
      "[130]\tvalidation_0-logloss:0.07137\tvalidation_0-auc:0.99747\tvalidation_1-logloss:0.07042\tvalidation_1-auc:0.99740\n",
      "[131]\tvalidation_0-logloss:0.07083\tvalidation_0-auc:0.99748\tvalidation_1-logloss:0.07004\tvalidation_1-auc:0.99730\n",
      "[132]\tvalidation_0-logloss:0.07038\tvalidation_0-auc:0.99748\tvalidation_1-logloss:0.06974\tvalidation_1-auc:0.99727\n",
      "[133]\tvalidation_0-logloss:0.07021\tvalidation_0-auc:0.99748\tvalidation_1-logloss:0.06966\tvalidation_1-auc:0.99728\n",
      "[134]\tvalidation_0-logloss:0.07013\tvalidation_0-auc:0.99748\tvalidation_1-logloss:0.06955\tvalidation_1-auc:0.99728\n",
      "[135]\tvalidation_0-logloss:0.07006\tvalidation_0-auc:0.99748\tvalidation_1-logloss:0.06945\tvalidation_1-auc:0.99728\n",
      "[136]\tvalidation_0-logloss:0.06996\tvalidation_0-auc:0.99748\tvalidation_1-logloss:0.06938\tvalidation_1-auc:0.99728\n",
      "[137]\tvalidation_0-logloss:0.06965\tvalidation_0-auc:0.99747\tvalidation_1-logloss:0.06922\tvalidation_1-auc:0.99731\n",
      "[138]\tvalidation_0-logloss:0.06928\tvalidation_0-auc:0.99748\tvalidation_1-logloss:0.06899\tvalidation_1-auc:0.99725\n",
      "[139]\tvalidation_0-logloss:0.06910\tvalidation_0-auc:0.99748\tvalidation_1-logloss:0.06895\tvalidation_1-auc:0.99726\n",
      "[140]\tvalidation_0-logloss:0.06884\tvalidation_0-auc:0.99746\tvalidation_1-logloss:0.06883\tvalidation_1-auc:0.99725\n",
      "[141]\tvalidation_0-logloss:0.06869\tvalidation_0-auc:0.99746\tvalidation_1-logloss:0.06881\tvalidation_1-auc:0.99726\n",
      "[142]\tvalidation_0-logloss:0.06863\tvalidation_0-auc:0.99746\tvalidation_1-logloss:0.06871\tvalidation_1-auc:0.99726\n",
      "[143]\tvalidation_0-logloss:0.06850\tvalidation_0-auc:0.99746\tvalidation_1-logloss:0.06870\tvalidation_1-auc:0.99727\n",
      "[144]\tvalidation_0-logloss:0.06828\tvalidation_0-auc:0.99745\tvalidation_1-logloss:0.06861\tvalidation_1-auc:0.99723\n",
      "[145]\tvalidation_0-logloss:0.06790\tvalidation_0-auc:0.99747\tvalidation_1-logloss:0.06769\tvalidation_1-auc:0.99728\n",
      "[146]\tvalidation_0-logloss:0.06779\tvalidation_0-auc:0.99747\tvalidation_1-logloss:0.06770\tvalidation_1-auc:0.99728\n",
      "[147]\tvalidation_0-logloss:0.06747\tvalidation_0-auc:0.99748\tvalidation_1-logloss:0.06688\tvalidation_1-auc:0.99733\n",
      "[148]\tvalidation_0-logloss:0.06728\tvalidation_0-auc:0.99748\tvalidation_1-logloss:0.06681\tvalidation_1-auc:0.99731\n",
      "[149]\tvalidation_0-logloss:0.06702\tvalidation_0-auc:0.99747\tvalidation_1-logloss:0.06609\tvalidation_1-auc:0.99737\n",
      "[150]\tvalidation_0-logloss:0.06696\tvalidation_0-auc:0.99747\tvalidation_1-logloss:0.06601\tvalidation_1-auc:0.99737\n",
      "[151]\tvalidation_0-logloss:0.06661\tvalidation_0-auc:0.99748\tvalidation_1-logloss:0.06579\tvalidation_1-auc:0.99732\n",
      "[152]\tvalidation_0-logloss:0.06645\tvalidation_0-auc:0.99747\tvalidation_1-logloss:0.06573\tvalidation_1-auc:0.99731\n",
      "[153]\tvalidation_0-logloss:0.06639\tvalidation_0-auc:0.99747\tvalidation_1-logloss:0.06565\tvalidation_1-auc:0.99731\n",
      "[154]\tvalidation_0-logloss:0.06628\tvalidation_0-auc:0.99747\tvalidation_1-logloss:0.06566\tvalidation_1-auc:0.99731\n",
      "[155]\tvalidation_0-logloss:0.06619\tvalidation_0-auc:0.99747\tvalidation_1-logloss:0.06568\tvalidation_1-auc:0.99731\n",
      "[156]\tvalidation_0-logloss:0.06615\tvalidation_0-auc:0.99747\tvalidation_1-logloss:0.06561\tvalidation_1-auc:0.99731\n",
      "[157]\tvalidation_0-logloss:0.06600\tvalidation_0-auc:0.99747\tvalidation_1-logloss:0.06557\tvalidation_1-auc:0.99730\n",
      "[158]\tvalidation_0-logloss:0.06583\tvalidation_0-auc:0.99748\tvalidation_1-logloss:0.06550\tvalidation_1-auc:0.99733\n",
      "[159]\tvalidation_0-logloss:0.06571\tvalidation_0-auc:0.99748\tvalidation_1-logloss:0.06547\tvalidation_1-auc:0.99732\n",
      "[160]\tvalidation_0-logloss:0.06561\tvalidation_0-auc:0.99748\tvalidation_1-logloss:0.06546\tvalidation_1-auc:0.99730\n",
      "[161]\tvalidation_0-logloss:0.06553\tvalidation_0-auc:0.99748\tvalidation_1-logloss:0.06549\tvalidation_1-auc:0.99731\n",
      "[162]\tvalidation_0-logloss:0.06521\tvalidation_0-auc:0.99745\tvalidation_1-logloss:0.06529\tvalidation_1-auc:0.99726\n",
      "[163]\tvalidation_0-logloss:0.06495\tvalidation_0-auc:0.99746\tvalidation_1-logloss:0.06514\tvalidation_1-auc:0.99723\n",
      "[164]\tvalidation_0-logloss:0.06479\tvalidation_0-auc:0.99746\tvalidation_1-logloss:0.06507\tvalidation_1-auc:0.99724\n",
      "[165]\tvalidation_0-logloss:0.06455\tvalidation_0-auc:0.99745\tvalidation_1-logloss:0.06437\tvalidation_1-auc:0.99727\n",
      "[166]\tvalidation_0-logloss:0.06433\tvalidation_0-auc:0.99746\tvalidation_1-logloss:0.06426\tvalidation_1-auc:0.99723\n",
      "[167]\tvalidation_0-logloss:0.06424\tvalidation_0-auc:0.99745\tvalidation_1-logloss:0.06428\tvalidation_1-auc:0.99726\n",
      "[168]\tvalidation_0-logloss:0.06420\tvalidation_0-auc:0.99745\tvalidation_1-logloss:0.06422\tvalidation_1-auc:0.99726\n",
      "[169]\tvalidation_0-logloss:0.06413\tvalidation_0-auc:0.99745\tvalidation_1-logloss:0.06425\tvalidation_1-auc:0.99726\n",
      "[170]\tvalidation_0-logloss:0.06392\tvalidation_0-auc:0.99745\tvalidation_1-logloss:0.06362\tvalidation_1-auc:0.99730\n",
      "[171]\tvalidation_0-logloss:0.06382\tvalidation_0-auc:0.99745\tvalidation_1-logloss:0.06360\tvalidation_1-auc:0.99728\n",
      "[172]\tvalidation_0-logloss:0.06374\tvalidation_0-auc:0.99745\tvalidation_1-logloss:0.06360\tvalidation_1-auc:0.99728\n",
      "[173]\tvalidation_0-logloss:0.06354\tvalidation_0-auc:0.99746\tvalidation_1-logloss:0.06350\tvalidation_1-auc:0.99724\n",
      "[174]\tvalidation_0-logloss:0.06347\tvalidation_0-auc:0.99745\tvalidation_1-logloss:0.06353\tvalidation_1-auc:0.99726\n",
      "[175]\tvalidation_0-logloss:0.06341\tvalidation_0-auc:0.99745\tvalidation_1-logloss:0.06357\tvalidation_1-auc:0.99726\n",
      "[176]\tvalidation_0-logloss:0.06323\tvalidation_0-auc:0.99744\tvalidation_1-logloss:0.06299\tvalidation_1-auc:0.99729\n",
      "[177]\tvalidation_0-logloss:0.06309\tvalidation_0-auc:0.99747\tvalidation_1-logloss:0.06247\tvalidation_1-auc:0.99733\n",
      "[178]\tvalidation_0-logloss:0.06291\tvalidation_0-auc:0.99745\tvalidation_1-logloss:0.06239\tvalidation_1-auc:0.99728\n",
      "[179]\tvalidation_0-logloss:0.06277\tvalidation_0-auc:0.99747\tvalidation_1-logloss:0.06233\tvalidation_1-auc:0.99724\n",
      "[180]\tvalidation_0-logloss:0.06265\tvalidation_0-auc:0.99747\tvalidation_1-logloss:0.06187\tvalidation_1-auc:0.99726\n",
      "[181]\tvalidation_0-logloss:0.06255\tvalidation_0-auc:0.99749\tvalidation_1-logloss:0.06145\tvalidation_1-auc:0.99728\n",
      "[182]\tvalidation_0-logloss:0.06251\tvalidation_0-auc:0.99749\tvalidation_1-logloss:0.06139\tvalidation_1-auc:0.99728\n",
      "[183]\tvalidation_0-logloss:0.06239\tvalidation_0-auc:0.99748\tvalidation_1-logloss:0.06134\tvalidation_1-auc:0.99723\n",
      "[184]\tvalidation_0-logloss:0.06235\tvalidation_0-auc:0.99748\tvalidation_1-logloss:0.06128\tvalidation_1-auc:0.99723\n",
      "[185]\tvalidation_0-logloss:0.06225\tvalidation_0-auc:0.99748\tvalidation_1-logloss:0.06125\tvalidation_1-auc:0.99717\n",
      "[186]\tvalidation_0-logloss:0.06222\tvalidation_0-auc:0.99748\tvalidation_1-logloss:0.06120\tvalidation_1-auc:0.99717\n",
      "[187]\tvalidation_0-logloss:0.06213\tvalidation_0-auc:0.99748\tvalidation_1-logloss:0.06119\tvalidation_1-auc:0.99721\n",
      "[188]\tvalidation_0-logloss:0.06194\tvalidation_0-auc:0.99750\tvalidation_1-logloss:0.06114\tvalidation_1-auc:0.99721\n",
      "[189]\tvalidation_0-logloss:0.06186\tvalidation_0-auc:0.99750\tvalidation_1-logloss:0.06108\tvalidation_1-auc:0.99721\n",
      "[190]\tvalidation_0-logloss:0.06179\tvalidation_0-auc:0.99751\tvalidation_1-logloss:0.06108\tvalidation_1-auc:0.99724\n",
      "[191]\tvalidation_0-logloss:0.06170\tvalidation_0-auc:0.99750\tvalidation_1-logloss:0.06106\tvalidation_1-auc:0.99716\n",
      "[192]\tvalidation_0-logloss:0.06161\tvalidation_0-auc:0.99751\tvalidation_1-logloss:0.06066\tvalidation_1-auc:0.99719\n",
      "[193]\tvalidation_0-logloss:0.06158\tvalidation_0-auc:0.99751\tvalidation_1-logloss:0.06061\tvalidation_1-auc:0.99719\n",
      "[194]\tvalidation_0-logloss:0.06155\tvalidation_0-auc:0.99751\tvalidation_1-logloss:0.06056\tvalidation_1-auc:0.99719\n",
      "[195]\tvalidation_0-logloss:0.06153\tvalidation_0-auc:0.99751\tvalidation_1-logloss:0.06052\tvalidation_1-auc:0.99719\n",
      "[196]\tvalidation_0-logloss:0.06146\tvalidation_0-auc:0.99752\tvalidation_1-logloss:0.06052\tvalidation_1-auc:0.99721\n",
      "[197]\tvalidation_0-logloss:0.06141\tvalidation_0-auc:0.99753\tvalidation_1-logloss:0.06053\tvalidation_1-auc:0.99721\n",
      "[198]\tvalidation_0-logloss:0.06137\tvalidation_0-auc:0.99751\tvalidation_1-logloss:0.06054\tvalidation_1-auc:0.99727\n",
      "[199]\tvalidation_0-logloss:0.06137\tvalidation_0-auc:0.99751\tvalidation_1-logloss:0.06054\tvalidation_1-auc:0.99727\n"
     ]
    }
   ],
   "source": [
    "eval_set = [(x_train, y_train), (x_test, y_test)]\n",
    "eval_metrics=['logloss', 'auc']\n",
    "XGB_tuned_classifier.fit(x_train, y_train, eval_metric=eval_metrics, eval_set=eval_set, verbose=True)\n",
    "results = XGB_tuned_classifier.evals_result()"
   ]
  },
  {
   "cell_type": "code",
   "execution_count": 39,
   "metadata": {},
   "outputs": [
    {
     "data": {
      "image/png": "[encoded data removed]",
      "text/plain": [
       "<Figure size 864x360 with 2 Axes>"
      ]
     },
     "metadata": {
      "needs_background": "light"
     },
     "output_type": "display_data"
    }
   ],
   "source": [
    "plt.figure(figsize=(12,5))\n",
    "plt.subplot(1,2,1)\n",
    "plt.title('Logloss plot')\n",
    "plt.plot(results['validation_0']['logloss'], label='train')\n",
    "plt.plot(results['validation_1']['logloss'], label='test')\n",
    "\n",
    "plt.subplot(1,2,2)\n",
    "plt.title('Area under curve plot')\n",
    "plt.plot(results['validation_0']['auc'], label='train')\n",
    "plt.plot(results['validation_1']['auc'], label='test')\n",
    "\n",
    "plt.legend()\n",
    "plt.show()"
   ]
  },
  {
   "cell_type": "code",
   "execution_count": 40,
   "metadata": {},
   "outputs": [
    {
     "data": {
      "image/png": "[encoded data removed]",
      "text/plain": [
       "<Figure size 936x360 with 4 Axes>"
      ]
     },
     "metadata": {
      "needs_background": "light"
     },
     "output_type": "display_data"
    }
   ],
   "source": [
    "XGB_tuned_CM= confusion_matrix(XGB_tuned_predictions, y_test)\n",
    "XGB_untuned_CM = confusion_matrix(XGB_predictions, y_test)\n",
    "\n",
    "plt.figure(figsize=(13,5))\n",
    "plt.subplot(1,2,1)\n",
    "sns.heatmap(XGB_tuned_CM, cmap='Greens', annot=True, fmt='', xticklabels=['Female', 'Male'], yticklabels=['Female', 'Male']) #fmt specifies format i.e 2dp percentage, whole number. float\n",
    "plt.title(\"XGB_tuned Heat Map of Actual gender/Predicted\")\n",
    "\n",
    "plt.subplot(1,2,2)\n",
    "sns.heatmap(XGB_untuned_CM, cmap='Blues', annot=True, fmt='', xticklabels=['Female', 'Male'], yticklabels=['Female', 'Male']) #fmt specifies format i.e 2dp percentage, whole number. float\n",
    "plt.title(\"XGB_untuned_CM Heat Map of Actual gender/Predicted\")\n",
    "\n",
    "plt.show()"
   ]
  },
  {
   "cell_type": "markdown",
   "metadata": {},
   "source": [
    "> The tuned model is much more able to generalize as compared to the previous one. Female Classification seems to be more accurate than male as compared to the prior but still, the model is doing a great work."
   ]
  },
  {
   "cell_type": "markdown",
   "metadata": {},
   "source": [
    "#### Tuned SVM Classifier"
   ]
  },
  {
   "cell_type": "code",
   "execution_count": 41,
   "metadata": {},
   "outputs": [
    {
     "data": {
      "text/plain": [
       "SVC(C=0.6, gamma=0.01, max_iter=370, tol=0.04)"
      ]
     },
     "execution_count": 41,
     "metadata": {},
     "output_type": "execute_result"
    }
   ],
   "source": [
    "#SVMClassifier trained with tuned hyper-paraeters \n",
    "\n",
    "SVM_tuned_classifier = svm.SVC(gamma=0.01, C=0.6, tol=0.04, max_iter=370)\n",
    "SVM_tuned_classifier.fit(x_train, y_train)"
   ]
  },
  {
   "cell_type": "code",
   "execution_count": 42,
   "metadata": {},
   "outputs": [
    {
     "name": "stdout",
     "output_type": "stream",
     "text": [
      "SVM Classifier prediction score with hyperparameters tuning 91.0 %\n"
     ]
    }
   ],
   "source": [
    "SVM_tuned_predictions = SVM_tuned_classifier.predict(x_test)\n",
    "SVM_tuned_score = r2_score(SVM_tuned_predictions, y_test)\n",
    "print('SVM Classifier prediction score with hyperparameters tuning', round(SVM_tuned_score, 2)*100,'%')"
   ]
  },
  {
   "cell_type": "code",
   "execution_count": 43,
   "metadata": {},
   "outputs": [
    {
     "data": {
      "image/png": "[encoded data removed]",
      "text/plain": [
       "<Figure size 936x360 with 4 Axes>"
      ]
     },
     "metadata": {
      "needs_background": "light"
     },
     "output_type": "display_data"
    }
   ],
   "source": [
    "SVM_tuned_CM= confusion_matrix(SVM_tuned_predictions, y_test)\n",
    "SVM_untuned_CM = confusion_matrix(SVM_predictions, y_test)\n",
    "\n",
    "plt.figure(figsize=(13,5))\n",
    "plt.subplot(1,2,1)\n",
    "sns.heatmap(SVM_tuned_CM, cmap='Greens', annot=True, fmt='', xticklabels=['Female', 'Male'], yticklabels=['Female', 'Male']) #fmt specifies format i.e 2dp percentage, whole number. float\n",
    "plt.title(\"SVM_tuned Heat Map of Actual gender/Predicted\")\n",
    "\n",
    "plt.subplot(1,2,2)\n",
    "sns.heatmap(SVM_untuned_CM, cmap='Blues', annot=True, fmt='', xticklabels=['Female', 'Male'], yticklabels=['Female', 'Male']) #fmt specifies format i.e 2dp percentage, whole number. float\n",
    "plt.title(\"SVM_untuned_CM Heat Map of Actual gender/Predicted\")\n",
    "\n",
    "plt.show()"
   ]
  },
  {
   "cell_type": "markdown",
   "metadata": {},
   "source": [
    "#### Tuned KNN Classifier"
   ]
  },
  {
   "cell_type": "code",
   "execution_count": 108,
   "metadata": {},
   "outputs": [],
   "source": [
    "params_KNN = {\n",
    "    'n_neighbors': [50, 60, 70, 80, 90],\n",
    "    'weights': ['uniform', 'distance'],\n",
    "    'leaf_size': [5, 10, 15, 30, 45, 50, 55],\n",
    "    'p': [1, 2],\n",
    "}"
   ]
  },
  {
   "cell_type": "code",
   "execution_count": 145,
   "metadata": {},
   "outputs": [
    {
     "data": {
      "text/plain": [
       "RandomizedSearchCV(estimator=KNeighborsClassifier(), n_jobs=-300,\n",
       "                   param_distributions={'leaf_size': [5, 10, 15, 30, 45, 50,\n",
       "                                                      55],\n",
       "                                        'n_neighbors': [50, 60, 70, 80, 90],\n",
       "                                        'p': [1, 2],\n",
       "                                        'weights': ['uniform', 'distance']})"
      ]
     },
     "execution_count": 145,
     "metadata": {},
     "output_type": "execute_result"
    }
   ],
   "source": [
    "KNN_random_search = RandomizedSearchCV(KNN_classifier, param_distributions=params_KNN, n_jobs=-300)\n",
    "KNN_random_search.fit(x_train, y_train)"
   ]
  },
  {
   "cell_type": "code",
   "execution_count": 146,
   "metadata": {},
   "outputs": [
    {
     "data": {
      "text/plain": [
       "{'weights': 'uniform', 'p': 2, 'n_neighbors': 80, 'leaf_size': 15}"
      ]
     },
     "execution_count": 146,
     "metadata": {},
     "output_type": "execute_result"
    }
   ],
   "source": [
    "KNN_random_search.best_params_"
   ]
  },
  {
   "cell_type": "code",
   "execution_count": 153,
   "metadata": {},
   "outputs": [
    {
     "data": {
      "text/plain": [
       "KNeighborsClassifier(leaf_size=15, n_neighbors=80)"
      ]
     },
     "execution_count": 153,
     "metadata": {},
     "output_type": "execute_result"
    }
   ],
   "source": [
    "#KNNClassifier trained with tuned hyper-paraeters \n",
    "KNN_tuned_classifier = knn(weights='uniform', p=2, n_neighbors=80, leaf_size=15)\n",
    "KNN_tuned_classifier.fit(x_train, y_train)"
   ]
  },
  {
   "cell_type": "code",
   "execution_count": 155,
   "metadata": {},
   "outputs": [
    {
     "name": "stdout",
     "output_type": "stream",
     "text": [
      "KNN Classifier prediction score with hyperparameters tuning 91.0 %\n"
     ]
    }
   ],
   "source": [
    "KNN_tuned_predictions = KNN_tuned_classifier.predict(x_test)\n",
    "KNN_tuned_score = r2_score(KNN_tuned_predictions, y_test)\n",
    "print('KNN Classifier prediction score with hyperparameters tuning', round(KNN_tuned_score, 2)*100,'%')"
   ]
  },
  {
   "cell_type": "code",
   "execution_count": 156,
   "metadata": {},
   "outputs": [
    {
     "data": {
      "image/png": "[encoded data removed]",
      "text/plain": [
       "<Figure size 936x360 with 4 Axes>"
      ]
     },
     "metadata": {
      "needs_background": "light"
     },
     "output_type": "display_data"
    }
   ],
   "source": [
    "KNN_tuned_CM= confusion_matrix(KNN_tuned_predictions, y_test)\n",
    "KNN_untuned_CM = confusion_matrix(KNN_predictions, y_test)\n",
    "\n",
    "plt.figure(figsize=(13,5))\n",
    "plt.subplot(1,2,1)\n",
    "sns.heatmap(KNN_tuned_CM, cmap='Greens', annot=True, fmt='', xticklabels=['Female', 'Male'], yticklabels=['Female', 'Male']) #fmt specifies format i.e 2dp percentage, whole number. float\n",
    "plt.title(\"KNN_tuned Heat Map of Actual gender/Predicted\")\n",
    "\n",
    "plt.subplot(1,2,2)\n",
    "sns.heatmap(KNN_untuned_CM, cmap='Blues', annot=True, fmt='', xticklabels=['Female', 'Male'], yticklabels=['Female', 'Male']) #fmt specifies format i.e 2dp percentage, whole number. float\n",
    "plt.title(\"KNN_untuned_CM Heat Map of Actual gender/Predicted\")\n",
    "\n",
    "plt.show()"
   ]
  },
  {
   "cell_type": "markdown",
   "metadata": {},
   "source": [
    "> Each model performed almost equally well.... To increase performance in this situation, proper outier detection and handling is required"
   ]
  }
 ],
 "metadata": {
  "interpreter": {
   "hash": "698943654ed90e0d601c73b15b591a66035d577c3c6badc918040a9e516c87b7"
  },
  "kernelspec": {
   "display_name": "Python 3.10.3 64-bit",
   "language": "python",
   "name": "python3"
  },
  "language_info": {
   "codemirror_mode": {
    "name": "ipython",
    "version": 3
   },
   "file_extension": ".py",
   "mimetype": "text/x-python",
   "name": "python",
   "nbconvert_exporter": "python",
   "pygments_lexer": "ipython3",
   "version": "3.10.3"
  },
  "orig_nbformat": 4
 },
 "nbformat": 4,
 "nbformat_minor": 2
}
